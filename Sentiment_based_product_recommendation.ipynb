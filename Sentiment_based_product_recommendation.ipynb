{
  "cells": [
    {
      "cell_type": "code",
      "execution_count": 2,
      "metadata": {
        "id": "kwXAYLARmDE0"
      },
      "outputs": [],
      "source": [
        "import numpy as np\n",
        "import pandas as pd\n",
        "import matplotlib.pyplot as plt\n",
        "import seaborn as sns"
      ]
    },
    {
      "cell_type": "code",
      "execution_count": 3,
      "metadata": {
        "colab": {
          "base_uri": "https://localhost:8080/"
        },
        "id": "WbKmEqDkzthS",
        "outputId": "513c9ef8-0236-48db-9d38-956a00fb9cfe"
      },
      "outputs": [
        {
          "output_type": "stream",
          "name": "stdout",
          "text": [
            "Mounted at /content/drive\n"
          ]
        }
      ],
      "source": [
        "from google.colab import drive\n",
        "drive.mount('/content/drive')"
      ]
    },
    {
      "cell_type": "code",
      "execution_count": 4,
      "metadata": {
        "id": "66FpZwyFz4EK"
      },
      "outputs": [],
      "source": [
        "csv_path = '/content/drive/MyDrive/capstone /sample30.csv'\n"
      ]
    },
    {
      "cell_type": "code",
      "execution_count": 5,
      "metadata": {
        "id": "gneKqrcxwuWu"
      },
      "outputs": [],
      "source": [
        "df =  pd.read_csv(csv_path)\n"
      ]
    },
    {
      "cell_type": "code",
      "execution_count": 6,
      "metadata": {
        "colab": {
          "base_uri": "https://localhost:8080/",
          "height": 590
        },
        "id": "qNPNVtjmxClB",
        "outputId": "fc800840-534d-40ec-db7a-ab0b5fd92d58"
      },
      "outputs": [
        {
          "output_type": "execute_result",
          "data": {
            "text/plain": [
              "                     id            brand  \\\n",
              "0  AV13O1A8GV-KLJ3akUyj  Universal Music   \n",
              "1  AV14LG0R-jtxr-f38QfS         Lundberg   \n",
              "2  AV14LG0R-jtxr-f38QfS         Lundberg   \n",
              "3  AV16khLE-jtxr-f38VFn              K-Y   \n",
              "4  AV16khLE-jtxr-f38VFn              K-Y   \n",
              "\n",
              "                                          categories  \\\n",
              "0  Movies, Music & Books,Music,R&b,Movies & TV,Mo...   \n",
              "1  Food,Packaged Foods,Snacks,Crackers,Snacks, Co...   \n",
              "2  Food,Packaged Foods,Snacks,Crackers,Snacks, Co...   \n",
              "3  Personal Care,Medicine Cabinet,Lubricant/Sperm...   \n",
              "4  Personal Care,Medicine Cabinet,Lubricant/Sperm...   \n",
              "\n",
              "                         manufacturer  \\\n",
              "0  Universal Music Group / Cash Money   \n",
              "1                            Lundberg   \n",
              "2                            Lundberg   \n",
              "3                                 K-Y   \n",
              "4                                 K-Y   \n",
              "\n",
              "                                         name              reviews_date  \\\n",
              "0   Pink Friday: Roman Reloaded Re-Up (w/dvd)  2012-11-30T06:21:45.000Z   \n",
              "1  Lundberg Organic Cinnamon Toast Rice Cakes  2017-07-09T00:00:00.000Z   \n",
              "2  Lundberg Organic Cinnamon Toast Rice Cakes  2017-07-09T00:00:00.000Z   \n",
              "3            K-Y Love Sensuality Pleasure Gel  2016-01-06T00:00:00.000Z   \n",
              "4            K-Y Love Sensuality Pleasure Gel  2016-12-21T00:00:00.000Z   \n",
              "\n",
              "  reviews_didPurchase reviews_doRecommend  reviews_rating  \\\n",
              "0                 NaN                 NaN               5   \n",
              "1                True                 NaN               5   \n",
              "2                True                 NaN               5   \n",
              "3               False               False               1   \n",
              "4               False               False               1   \n",
              "\n",
              "                                        reviews_text reviews_title  \\\n",
              "0  i love this album. it's very good. more to the...  Just Awesome   \n",
              "1  Good flavor. This review was collected as part...          Good   \n",
              "2                                       Good flavor.          Good   \n",
              "3  I read through the reviews on here before look...  Disappointed   \n",
              "4  My husband bought this gel for us. The gel cau...    Irritation   \n",
              "\n",
              "  reviews_userCity reviews_userProvince reviews_username user_sentiment  \n",
              "0      Los Angeles                  NaN           joshua       Positive  \n",
              "1              NaN                  NaN        dorothy w       Positive  \n",
              "2              NaN                  NaN        dorothy w       Positive  \n",
              "3              NaN                  NaN          rebecca       Negative  \n",
              "4              NaN                  NaN        walker557       Negative  "
            ],
            "text/html": [
              "\n",
              "  <div id=\"df-b998928f-59ae-4eb7-8671-716c0d434d85\" class=\"colab-df-container\">\n",
              "    <div>\n",
              "<style scoped>\n",
              "    .dataframe tbody tr th:only-of-type {\n",
              "        vertical-align: middle;\n",
              "    }\n",
              "\n",
              "    .dataframe tbody tr th {\n",
              "        vertical-align: top;\n",
              "    }\n",
              "\n",
              "    .dataframe thead th {\n",
              "        text-align: right;\n",
              "    }\n",
              "</style>\n",
              "<table border=\"1\" class=\"dataframe\">\n",
              "  <thead>\n",
              "    <tr style=\"text-align: right;\">\n",
              "      <th></th>\n",
              "      <th>id</th>\n",
              "      <th>brand</th>\n",
              "      <th>categories</th>\n",
              "      <th>manufacturer</th>\n",
              "      <th>name</th>\n",
              "      <th>reviews_date</th>\n",
              "      <th>reviews_didPurchase</th>\n",
              "      <th>reviews_doRecommend</th>\n",
              "      <th>reviews_rating</th>\n",
              "      <th>reviews_text</th>\n",
              "      <th>reviews_title</th>\n",
              "      <th>reviews_userCity</th>\n",
              "      <th>reviews_userProvince</th>\n",
              "      <th>reviews_username</th>\n",
              "      <th>user_sentiment</th>\n",
              "    </tr>\n",
              "  </thead>\n",
              "  <tbody>\n",
              "    <tr>\n",
              "      <th>0</th>\n",
              "      <td>AV13O1A8GV-KLJ3akUyj</td>\n",
              "      <td>Universal Music</td>\n",
              "      <td>Movies, Music &amp; Books,Music,R&amp;b,Movies &amp; TV,Mo...</td>\n",
              "      <td>Universal Music Group / Cash Money</td>\n",
              "      <td>Pink Friday: Roman Reloaded Re-Up (w/dvd)</td>\n",
              "      <td>2012-11-30T06:21:45.000Z</td>\n",
              "      <td>NaN</td>\n",
              "      <td>NaN</td>\n",
              "      <td>5</td>\n",
              "      <td>i love this album. it's very good. more to the...</td>\n",
              "      <td>Just Awesome</td>\n",
              "      <td>Los Angeles</td>\n",
              "      <td>NaN</td>\n",
              "      <td>joshua</td>\n",
              "      <td>Positive</td>\n",
              "    </tr>\n",
              "    <tr>\n",
              "      <th>1</th>\n",
              "      <td>AV14LG0R-jtxr-f38QfS</td>\n",
              "      <td>Lundberg</td>\n",
              "      <td>Food,Packaged Foods,Snacks,Crackers,Snacks, Co...</td>\n",
              "      <td>Lundberg</td>\n",
              "      <td>Lundberg Organic Cinnamon Toast Rice Cakes</td>\n",
              "      <td>2017-07-09T00:00:00.000Z</td>\n",
              "      <td>True</td>\n",
              "      <td>NaN</td>\n",
              "      <td>5</td>\n",
              "      <td>Good flavor. This review was collected as part...</td>\n",
              "      <td>Good</td>\n",
              "      <td>NaN</td>\n",
              "      <td>NaN</td>\n",
              "      <td>dorothy w</td>\n",
              "      <td>Positive</td>\n",
              "    </tr>\n",
              "    <tr>\n",
              "      <th>2</th>\n",
              "      <td>AV14LG0R-jtxr-f38QfS</td>\n",
              "      <td>Lundberg</td>\n",
              "      <td>Food,Packaged Foods,Snacks,Crackers,Snacks, Co...</td>\n",
              "      <td>Lundberg</td>\n",
              "      <td>Lundberg Organic Cinnamon Toast Rice Cakes</td>\n",
              "      <td>2017-07-09T00:00:00.000Z</td>\n",
              "      <td>True</td>\n",
              "      <td>NaN</td>\n",
              "      <td>5</td>\n",
              "      <td>Good flavor.</td>\n",
              "      <td>Good</td>\n",
              "      <td>NaN</td>\n",
              "      <td>NaN</td>\n",
              "      <td>dorothy w</td>\n",
              "      <td>Positive</td>\n",
              "    </tr>\n",
              "    <tr>\n",
              "      <th>3</th>\n",
              "      <td>AV16khLE-jtxr-f38VFn</td>\n",
              "      <td>K-Y</td>\n",
              "      <td>Personal Care,Medicine Cabinet,Lubricant/Sperm...</td>\n",
              "      <td>K-Y</td>\n",
              "      <td>K-Y Love Sensuality Pleasure Gel</td>\n",
              "      <td>2016-01-06T00:00:00.000Z</td>\n",
              "      <td>False</td>\n",
              "      <td>False</td>\n",
              "      <td>1</td>\n",
              "      <td>I read through the reviews on here before look...</td>\n",
              "      <td>Disappointed</td>\n",
              "      <td>NaN</td>\n",
              "      <td>NaN</td>\n",
              "      <td>rebecca</td>\n",
              "      <td>Negative</td>\n",
              "    </tr>\n",
              "    <tr>\n",
              "      <th>4</th>\n",
              "      <td>AV16khLE-jtxr-f38VFn</td>\n",
              "      <td>K-Y</td>\n",
              "      <td>Personal Care,Medicine Cabinet,Lubricant/Sperm...</td>\n",
              "      <td>K-Y</td>\n",
              "      <td>K-Y Love Sensuality Pleasure Gel</td>\n",
              "      <td>2016-12-21T00:00:00.000Z</td>\n",
              "      <td>False</td>\n",
              "      <td>False</td>\n",
              "      <td>1</td>\n",
              "      <td>My husband bought this gel for us. The gel cau...</td>\n",
              "      <td>Irritation</td>\n",
              "      <td>NaN</td>\n",
              "      <td>NaN</td>\n",
              "      <td>walker557</td>\n",
              "      <td>Negative</td>\n",
              "    </tr>\n",
              "  </tbody>\n",
              "</table>\n",
              "</div>\n",
              "    <div class=\"colab-df-buttons\">\n",
              "\n",
              "  <div class=\"colab-df-container\">\n",
              "    <button class=\"colab-df-convert\" onclick=\"convertToInteractive('df-b998928f-59ae-4eb7-8671-716c0d434d85')\"\n",
              "            title=\"Convert this dataframe to an interactive table.\"\n",
              "            style=\"display:none;\">\n",
              "\n",
              "  <svg xmlns=\"http://www.w3.org/2000/svg\" height=\"24px\" viewBox=\"0 -960 960 960\">\n",
              "    <path d=\"M120-120v-720h720v720H120Zm60-500h600v-160H180v160Zm220 220h160v-160H400v160Zm0 220h160v-160H400v160ZM180-400h160v-160H180v160Zm440 0h160v-160H620v160ZM180-180h160v-160H180v160Zm440 0h160v-160H620v160Z\"/>\n",
              "  </svg>\n",
              "    </button>\n",
              "\n",
              "  <style>\n",
              "    .colab-df-container {\n",
              "      display:flex;\n",
              "      gap: 12px;\n",
              "    }\n",
              "\n",
              "    .colab-df-convert {\n",
              "      background-color: #E8F0FE;\n",
              "      border: none;\n",
              "      border-radius: 50%;\n",
              "      cursor: pointer;\n",
              "      display: none;\n",
              "      fill: #1967D2;\n",
              "      height: 32px;\n",
              "      padding: 0 0 0 0;\n",
              "      width: 32px;\n",
              "    }\n",
              "\n",
              "    .colab-df-convert:hover {\n",
              "      background-color: #E2EBFA;\n",
              "      box-shadow: 0px 1px 2px rgba(60, 64, 67, 0.3), 0px 1px 3px 1px rgba(60, 64, 67, 0.15);\n",
              "      fill: #174EA6;\n",
              "    }\n",
              "\n",
              "    .colab-df-buttons div {\n",
              "      margin-bottom: 4px;\n",
              "    }\n",
              "\n",
              "    [theme=dark] .colab-df-convert {\n",
              "      background-color: #3B4455;\n",
              "      fill: #D2E3FC;\n",
              "    }\n",
              "\n",
              "    [theme=dark] .colab-df-convert:hover {\n",
              "      background-color: #434B5C;\n",
              "      box-shadow: 0px 1px 3px 1px rgba(0, 0, 0, 0.15);\n",
              "      filter: drop-shadow(0px 1px 2px rgba(0, 0, 0, 0.3));\n",
              "      fill: #FFFFFF;\n",
              "    }\n",
              "  </style>\n",
              "\n",
              "    <script>\n",
              "      const buttonEl =\n",
              "        document.querySelector('#df-b998928f-59ae-4eb7-8671-716c0d434d85 button.colab-df-convert');\n",
              "      buttonEl.style.display =\n",
              "        google.colab.kernel.accessAllowed ? 'block' : 'none';\n",
              "\n",
              "      async function convertToInteractive(key) {\n",
              "        const element = document.querySelector('#df-b998928f-59ae-4eb7-8671-716c0d434d85');\n",
              "        const dataTable =\n",
              "          await google.colab.kernel.invokeFunction('convertToInteractive',\n",
              "                                                    [key], {});\n",
              "        if (!dataTable) return;\n",
              "\n",
              "        const docLinkHtml = 'Like what you see? Visit the ' +\n",
              "          '<a target=\"_blank\" href=https://colab.research.google.com/notebooks/data_table.ipynb>data table notebook</a>'\n",
              "          + ' to learn more about interactive tables.';\n",
              "        element.innerHTML = '';\n",
              "        dataTable['output_type'] = 'display_data';\n",
              "        await google.colab.output.renderOutput(dataTable, element);\n",
              "        const docLink = document.createElement('div');\n",
              "        docLink.innerHTML = docLinkHtml;\n",
              "        element.appendChild(docLink);\n",
              "      }\n",
              "    </script>\n",
              "  </div>\n",
              "\n",
              "\n",
              "    <div id=\"df-fddf2349-7298-4258-80e1-5e39751cc3c5\">\n",
              "      <button class=\"colab-df-quickchart\" onclick=\"quickchart('df-fddf2349-7298-4258-80e1-5e39751cc3c5')\"\n",
              "                title=\"Suggest charts\"\n",
              "                style=\"display:none;\">\n",
              "\n",
              "<svg xmlns=\"http://www.w3.org/2000/svg\" height=\"24px\"viewBox=\"0 0 24 24\"\n",
              "     width=\"24px\">\n",
              "    <g>\n",
              "        <path d=\"M19 3H5c-1.1 0-2 .9-2 2v14c0 1.1.9 2 2 2h14c1.1 0 2-.9 2-2V5c0-1.1-.9-2-2-2zM9 17H7v-7h2v7zm4 0h-2V7h2v10zm4 0h-2v-4h2v4z\"/>\n",
              "    </g>\n",
              "</svg>\n",
              "      </button>\n",
              "\n",
              "<style>\n",
              "  .colab-df-quickchart {\n",
              "      --bg-color: #E8F0FE;\n",
              "      --fill-color: #1967D2;\n",
              "      --hover-bg-color: #E2EBFA;\n",
              "      --hover-fill-color: #174EA6;\n",
              "      --disabled-fill-color: #AAA;\n",
              "      --disabled-bg-color: #DDD;\n",
              "  }\n",
              "\n",
              "  [theme=dark] .colab-df-quickchart {\n",
              "      --bg-color: #3B4455;\n",
              "      --fill-color: #D2E3FC;\n",
              "      --hover-bg-color: #434B5C;\n",
              "      --hover-fill-color: #FFFFFF;\n",
              "      --disabled-bg-color: #3B4455;\n",
              "      --disabled-fill-color: #666;\n",
              "  }\n",
              "\n",
              "  .colab-df-quickchart {\n",
              "    background-color: var(--bg-color);\n",
              "    border: none;\n",
              "    border-radius: 50%;\n",
              "    cursor: pointer;\n",
              "    display: none;\n",
              "    fill: var(--fill-color);\n",
              "    height: 32px;\n",
              "    padding: 0;\n",
              "    width: 32px;\n",
              "  }\n",
              "\n",
              "  .colab-df-quickchart:hover {\n",
              "    background-color: var(--hover-bg-color);\n",
              "    box-shadow: 0 1px 2px rgba(60, 64, 67, 0.3), 0 1px 3px 1px rgba(60, 64, 67, 0.15);\n",
              "    fill: var(--button-hover-fill-color);\n",
              "  }\n",
              "\n",
              "  .colab-df-quickchart-complete:disabled,\n",
              "  .colab-df-quickchart-complete:disabled:hover {\n",
              "    background-color: var(--disabled-bg-color);\n",
              "    fill: var(--disabled-fill-color);\n",
              "    box-shadow: none;\n",
              "  }\n",
              "\n",
              "  .colab-df-spinner {\n",
              "    border: 2px solid var(--fill-color);\n",
              "    border-color: transparent;\n",
              "    border-bottom-color: var(--fill-color);\n",
              "    animation:\n",
              "      spin 1s steps(1) infinite;\n",
              "  }\n",
              "\n",
              "  @keyframes spin {\n",
              "    0% {\n",
              "      border-color: transparent;\n",
              "      border-bottom-color: var(--fill-color);\n",
              "      border-left-color: var(--fill-color);\n",
              "    }\n",
              "    20% {\n",
              "      border-color: transparent;\n",
              "      border-left-color: var(--fill-color);\n",
              "      border-top-color: var(--fill-color);\n",
              "    }\n",
              "    30% {\n",
              "      border-color: transparent;\n",
              "      border-left-color: var(--fill-color);\n",
              "      border-top-color: var(--fill-color);\n",
              "      border-right-color: var(--fill-color);\n",
              "    }\n",
              "    40% {\n",
              "      border-color: transparent;\n",
              "      border-right-color: var(--fill-color);\n",
              "      border-top-color: var(--fill-color);\n",
              "    }\n",
              "    60% {\n",
              "      border-color: transparent;\n",
              "      border-right-color: var(--fill-color);\n",
              "    }\n",
              "    80% {\n",
              "      border-color: transparent;\n",
              "      border-right-color: var(--fill-color);\n",
              "      border-bottom-color: var(--fill-color);\n",
              "    }\n",
              "    90% {\n",
              "      border-color: transparent;\n",
              "      border-bottom-color: var(--fill-color);\n",
              "    }\n",
              "  }\n",
              "</style>\n",
              "\n",
              "      <script>\n",
              "        async function quickchart(key) {\n",
              "          const quickchartButtonEl =\n",
              "            document.querySelector('#' + key + ' button');\n",
              "          quickchartButtonEl.disabled = true;  // To prevent multiple clicks.\n",
              "          quickchartButtonEl.classList.add('colab-df-spinner');\n",
              "          try {\n",
              "            const charts = await google.colab.kernel.invokeFunction(\n",
              "                'suggestCharts', [key], {});\n",
              "          } catch (error) {\n",
              "            console.error('Error during call to suggestCharts:', error);\n",
              "          }\n",
              "          quickchartButtonEl.classList.remove('colab-df-spinner');\n",
              "          quickchartButtonEl.classList.add('colab-df-quickchart-complete');\n",
              "        }\n",
              "        (() => {\n",
              "          let quickchartButtonEl =\n",
              "            document.querySelector('#df-fddf2349-7298-4258-80e1-5e39751cc3c5 button');\n",
              "          quickchartButtonEl.style.display =\n",
              "            google.colab.kernel.accessAllowed ? 'block' : 'none';\n",
              "        })();\n",
              "      </script>\n",
              "    </div>\n",
              "\n",
              "    </div>\n",
              "  </div>\n"
            ],
            "application/vnd.google.colaboratory.intrinsic+json": {
              "type": "dataframe",
              "variable_name": "df",
              "summary": "{\n  \"name\": \"df\",\n  \"rows\": 30000,\n  \"fields\": [\n    {\n      \"column\": \"id\",\n      \"properties\": {\n        \"dtype\": \"category\",\n        \"num_unique_values\": 271,\n        \"samples\": [\n          \"AVpe_N91LJeJML43z4jD\",\n          \"AVpfbjraLJeJML439F91\",\n          \"AVpf0eb2LJeJML43EVSt\"\n        ],\n        \"semantic_type\": \"\",\n        \"description\": \"\"\n      }\n    },\n    {\n      \"column\": \"brand\",\n      \"properties\": {\n        \"dtype\": \"category\",\n        \"num_unique_values\": 214,\n        \"samples\": [\n          \"KIND\",\n          \"Spam\",\n          \"Plano\"\n        ],\n        \"semantic_type\": \"\",\n        \"description\": \"\"\n      }\n    },\n    {\n      \"column\": \"categories\",\n      \"properties\": {\n        \"dtype\": \"category\",\n        \"num_unique_values\": 270,\n        \"samples\": [\n          \"Home,Kids' Home,Girls' Room,Girls' Room Furniture,Home Ideas, Design & Inspiration,Modern Decor,Furniture,Home Office Furniture,Bookcases,Boys' Room,Boys' Room Furniture,Office Furniture,Kids Furniture,Kids Bedroom Furniture,Bookshelves,Natural Baby Products,Arts & Crafts, Educational Toys, Books,Back to School Supplies,Classroom Furniture,Classroom Cubbies & Coat Lockers\",\n          \"Home,Home Decor,Clocks,Wall Clocks,Decor,Office Supplies,Decorative Accents,Wall Decor,Office Decor\",\n          \"Movies, Music & Books,Ways To Shop Entertainment,Movie & Tv Box Sets,Movies,Horror,Movies & TV Shows,All Horror,Movies & Tv On Blu-Ray,Movies & TV,Blu-ray,Action & Adventure,Movies & Music,Holiday Shop\"\n        ],\n        \"semantic_type\": \"\",\n        \"description\": \"\"\n      }\n    },\n    {\n      \"column\": \"manufacturer\",\n      \"properties\": {\n        \"dtype\": \"category\",\n        \"num_unique_values\": 227,\n        \"samples\": [\n          \"Kind Fruit & Nut Bars\",\n          \"Naturtint Hair Color\",\n          \"Reckitt Benckiser\"\n        ],\n        \"semantic_type\": \"\",\n        \"description\": \"\"\n      }\n    },\n    {\n      \"column\": \"name\",\n      \"properties\": {\n        \"dtype\": \"category\",\n        \"num_unique_values\": 271,\n        \"samples\": [\n          \"Way Basics 3-Shelf Eco Narrow Bookcase Storage Shelf, Espresso - Formaldehyde Free - Lifetime Guarantee\",\n          \"Pocket Watch Wall Clock Distressed Black - Yosemite Home Decor174\",\n          \"The Resident Evil Collection 5 Discs (blu-Ray)\"\n        ],\n        \"semantic_type\": \"\",\n        \"description\": \"\"\n      }\n    },\n    {\n      \"column\": \"reviews_date\",\n      \"properties\": {\n        \"dtype\": \"category\",\n        \"num_unique_values\": 6857,\n        \"samples\": [\n          \"2016-03-20T00:00:00.000Z\",\n          \"2013-06-27T07:59:33.000Z\",\n          \"2013-11-21T00:00:00.000Z\"\n        ],\n        \"semantic_type\": \"\",\n        \"description\": \"\"\n      }\n    },\n    {\n      \"column\": \"reviews_didPurchase\",\n      \"properties\": {\n        \"dtype\": \"category\",\n        \"num_unique_values\": 2,\n        \"samples\": [\n          false,\n          true\n        ],\n        \"semantic_type\": \"\",\n        \"description\": \"\"\n      }\n    },\n    {\n      \"column\": \"reviews_doRecommend\",\n      \"properties\": {\n        \"dtype\": \"category\",\n        \"num_unique_values\": 2,\n        \"samples\": [\n          true,\n          false\n        ],\n        \"semantic_type\": \"\",\n        \"description\": \"\"\n      }\n    },\n    {\n      \"column\": \"reviews_rating\",\n      \"properties\": {\n        \"dtype\": \"number\",\n        \"std\": 0,\n        \"min\": 1,\n        \"max\": 5,\n        \"num_unique_values\": 5,\n        \"samples\": [\n          1,\n          2\n        ],\n        \"semantic_type\": \"\",\n        \"description\": \"\"\n      }\n    },\n    {\n      \"column\": \"reviews_text\",\n      \"properties\": {\n        \"dtype\": \"string\",\n        \"num_unique_values\": 27282,\n        \"samples\": [\n          \"Great color. Long lasting and makes my lips so smooth. Great product. This review was collected as part of a promotion.\",\n          \"ITS SUPER GOOD AND AMAZING I really like the packaging to I believe you should keep making this product and selling it was a little pricey but it was totally worth it.\"\n        ],\n        \"semantic_type\": \"\",\n        \"description\": \"\"\n      }\n    },\n    {\n      \"column\": \"reviews_title\",\n      \"properties\": {\n        \"dtype\": \"string\",\n        \"num_unique_values\": 18535,\n        \"samples\": [\n          \"BRING BACK THE TOFFEE AND COCOA\",\n          \"Was a gift\"\n        ],\n        \"semantic_type\": \"\",\n        \"description\": \"\"\n      }\n    },\n    {\n      \"column\": \"reviews_userCity\",\n      \"properties\": {\n        \"dtype\": \"category\",\n        \"num_unique_values\": 977,\n        \"samples\": [\n          \"Bedford\",\n          \"Alaska\"\n        ],\n        \"semantic_type\": \"\",\n        \"description\": \"\"\n      }\n    },\n    {\n      \"column\": \"reviews_userProvince\",\n      \"properties\": {\n        \"dtype\": \"category\",\n        \"num_unique_values\": 42,\n        \"samples\": [\n          \"CO\",\n          \"VA\"\n        ],\n        \"semantic_type\": \"\",\n        \"description\": \"\"\n      }\n    },\n    {\n      \"column\": \"reviews_username\",\n      \"properties\": {\n        \"dtype\": \"string\",\n        \"num_unique_values\": 24914,\n        \"samples\": [\n          \"hewhois\",\n          \"george67\"\n        ],\n        \"semantic_type\": \"\",\n        \"description\": \"\"\n      }\n    },\n    {\n      \"column\": \"user_sentiment\",\n      \"properties\": {\n        \"dtype\": \"category\",\n        \"num_unique_values\": 2,\n        \"samples\": [\n          \"Negative\",\n          \"Positive\"\n        ],\n        \"semantic_type\": \"\",\n        \"description\": \"\"\n      }\n    }\n  ]\n}"
            }
          },
          "metadata": {},
          "execution_count": 6
        }
      ],
      "source": [
        "df.head()"
      ]
    },
    {
      "cell_type": "code",
      "execution_count": 7,
      "metadata": {
        "colab": {
          "base_uri": "https://localhost:8080/"
        },
        "id": "YmGlupAy7Wy2",
        "outputId": "389cb240-f709-4a48-ca01-d20c4b364b91"
      },
      "outputs": [
        {
          "output_type": "execute_result",
          "data": {
            "text/plain": [
              "(30000, 15)"
            ]
          },
          "metadata": {},
          "execution_count": 7
        }
      ],
      "source": [
        "df.shape"
      ]
    },
    {
      "cell_type": "code",
      "execution_count": 8,
      "metadata": {
        "colab": {
          "base_uri": "https://localhost:8080/"
        },
        "id": "lHXA4-ws7kyZ",
        "outputId": "2de8977d-3970-4c93-9a39-dde68439f0f6"
      },
      "outputs": [
        {
          "output_type": "stream",
          "name": "stdout",
          "text": [
            "<class 'pandas.core.frame.DataFrame'>\n",
            "RangeIndex: 30000 entries, 0 to 29999\n",
            "Data columns (total 15 columns):\n",
            " #   Column                Non-Null Count  Dtype \n",
            "---  ------                --------------  ----- \n",
            " 0   id                    30000 non-null  object\n",
            " 1   brand                 30000 non-null  object\n",
            " 2   categories            30000 non-null  object\n",
            " 3   manufacturer          29859 non-null  object\n",
            " 4   name                  30000 non-null  object\n",
            " 5   reviews_date          29954 non-null  object\n",
            " 6   reviews_didPurchase   15932 non-null  object\n",
            " 7   reviews_doRecommend   27430 non-null  object\n",
            " 8   reviews_rating        30000 non-null  int64 \n",
            " 9   reviews_text          30000 non-null  object\n",
            " 10  reviews_title         29810 non-null  object\n",
            " 11  reviews_userCity      1929 non-null   object\n",
            " 12  reviews_userProvince  170 non-null    object\n",
            " 13  reviews_username      29937 non-null  object\n",
            " 14  user_sentiment        29999 non-null  object\n",
            "dtypes: int64(1), object(14)\n",
            "memory usage: 3.4+ MB\n"
          ]
        }
      ],
      "source": [
        "df.info()"
      ]
    },
    {
      "cell_type": "markdown",
      "metadata": {
        "id": "16UIc90_QK6Z"
      },
      "source": [
        "**DATA CLEANING AND PREPROCESSING**"
      ]
    },
    {
      "cell_type": "code",
      "execution_count": 9,
      "metadata": {
        "colab": {
          "base_uri": "https://localhost:8080/",
          "height": 554
        },
        "id": "WZbrd9757mjG",
        "outputId": "ba98b68e-0f42-47e3-a867-3087455eab26"
      },
      "outputs": [
        {
          "output_type": "execute_result",
          "data": {
            "text/plain": [
              "id                       0.000000\n",
              "brand                    0.000000\n",
              "categories               0.000000\n",
              "manufacturer             0.470000\n",
              "name                     0.000000\n",
              "reviews_date             0.153333\n",
              "reviews_didPurchase     46.893333\n",
              "reviews_doRecommend      8.566667\n",
              "reviews_rating           0.000000\n",
              "reviews_text             0.000000\n",
              "reviews_title            0.633333\n",
              "reviews_userCity        93.570000\n",
              "reviews_userProvince    99.433333\n",
              "reviews_username         0.210000\n",
              "user_sentiment           0.003333\n",
              "dtype: float64"
            ],
            "text/html": [
              "<div>\n",
              "<style scoped>\n",
              "    .dataframe tbody tr th:only-of-type {\n",
              "        vertical-align: middle;\n",
              "    }\n",
              "\n",
              "    .dataframe tbody tr th {\n",
              "        vertical-align: top;\n",
              "    }\n",
              "\n",
              "    .dataframe thead th {\n",
              "        text-align: right;\n",
              "    }\n",
              "</style>\n",
              "<table border=\"1\" class=\"dataframe\">\n",
              "  <thead>\n",
              "    <tr style=\"text-align: right;\">\n",
              "      <th></th>\n",
              "      <th>0</th>\n",
              "    </tr>\n",
              "  </thead>\n",
              "  <tbody>\n",
              "    <tr>\n",
              "      <th>id</th>\n",
              "      <td>0.000000</td>\n",
              "    </tr>\n",
              "    <tr>\n",
              "      <th>brand</th>\n",
              "      <td>0.000000</td>\n",
              "    </tr>\n",
              "    <tr>\n",
              "      <th>categories</th>\n",
              "      <td>0.000000</td>\n",
              "    </tr>\n",
              "    <tr>\n",
              "      <th>manufacturer</th>\n",
              "      <td>0.470000</td>\n",
              "    </tr>\n",
              "    <tr>\n",
              "      <th>name</th>\n",
              "      <td>0.000000</td>\n",
              "    </tr>\n",
              "    <tr>\n",
              "      <th>reviews_date</th>\n",
              "      <td>0.153333</td>\n",
              "    </tr>\n",
              "    <tr>\n",
              "      <th>reviews_didPurchase</th>\n",
              "      <td>46.893333</td>\n",
              "    </tr>\n",
              "    <tr>\n",
              "      <th>reviews_doRecommend</th>\n",
              "      <td>8.566667</td>\n",
              "    </tr>\n",
              "    <tr>\n",
              "      <th>reviews_rating</th>\n",
              "      <td>0.000000</td>\n",
              "    </tr>\n",
              "    <tr>\n",
              "      <th>reviews_text</th>\n",
              "      <td>0.000000</td>\n",
              "    </tr>\n",
              "    <tr>\n",
              "      <th>reviews_title</th>\n",
              "      <td>0.633333</td>\n",
              "    </tr>\n",
              "    <tr>\n",
              "      <th>reviews_userCity</th>\n",
              "      <td>93.570000</td>\n",
              "    </tr>\n",
              "    <tr>\n",
              "      <th>reviews_userProvince</th>\n",
              "      <td>99.433333</td>\n",
              "    </tr>\n",
              "    <tr>\n",
              "      <th>reviews_username</th>\n",
              "      <td>0.210000</td>\n",
              "    </tr>\n",
              "    <tr>\n",
              "      <th>user_sentiment</th>\n",
              "      <td>0.003333</td>\n",
              "    </tr>\n",
              "  </tbody>\n",
              "</table>\n",
              "</div><br><label><b>dtype:</b> float64</label>"
            ]
          },
          "metadata": {},
          "execution_count": 9
        }
      ],
      "source": [
        "df.isnull().sum()/df.shape[0]*100"
      ]
    },
    {
      "cell_type": "markdown",
      "metadata": {
        "id": "gCpAEEGB9ZUg"
      },
      "source": [
        "As the columns reviews_userCity, Reviews_userProvince  constitue to maximum missing values, deleting those columns."
      ]
    },
    {
      "cell_type": "code",
      "execution_count": 10,
      "metadata": {
        "id": "AGkJghra9Lu9"
      },
      "outputs": [],
      "source": [
        "df = df.drop(['reviews_userCity', 'reviews_userProvince'], axis=1)"
      ]
    },
    {
      "cell_type": "markdown",
      "metadata": {
        "id": "g5VFy_aSYliE"
      },
      "source": [
        "As Id column is unique number for each review it doesnt have any specific purpose in EDA , deleting the column"
      ]
    },
    {
      "cell_type": "code",
      "execution_count": 11,
      "metadata": {
        "id": "2VFy1qFHW_de"
      },
      "outputs": [],
      "source": [
        "df=df.drop(['id'],axis=1)"
      ]
    },
    {
      "cell_type": "markdown",
      "metadata": {
        "id": "rHaeuLU7bEfe"
      },
      "source": [
        "Changing the data type of columns reviews_didPurchase and reviews_doRecommend to Integer with values 1 for True , 0 for False and -1 for missing values."
      ]
    },
    {
      "cell_type": "code",
      "execution_count": 12,
      "metadata": {
        "id": "F-ByYojPZA9_"
      },
      "outputs": [],
      "source": [
        "df['reviews_didPurchase'] = df['reviews_didPurchase'].astype(str).str.lower()\n",
        "df['reviews_didPurchase'] = df['reviews_didPurchase'].map({'true': 1, 'false': 0})\n",
        "df['reviews_didPurchase'] = df['reviews_didPurchase'].fillna(-1).astype(int)\n",
        "\n",
        "\n",
        "\n",
        "df['reviews_doRecommend'] = df['reviews_doRecommend'].astype(str).str.lower()\n",
        "df['reviews_doRecommend'] = df['reviews_doRecommend'].map({'true': 1, 'false': 0})\n",
        "df['reviews_doRecommend'] = df['reviews_doRecommend'].fillna(-1).astype(int)"
      ]
    },
    {
      "cell_type": "code",
      "execution_count": 13,
      "metadata": {
        "colab": {
          "base_uri": "https://localhost:8080/",
          "height": 178
        },
        "id": "n-x7krVbasOD",
        "outputId": "12900118-d214-4238-ed9b-951d98660024"
      },
      "outputs": [
        {
          "output_type": "execute_result",
          "data": {
            "text/plain": [
              "user_sentiment\n",
              "Positive    26632\n",
              "Negative     3367\n",
              "Name: count, dtype: int64"
            ],
            "text/html": [
              "<div>\n",
              "<style scoped>\n",
              "    .dataframe tbody tr th:only-of-type {\n",
              "        vertical-align: middle;\n",
              "    }\n",
              "\n",
              "    .dataframe tbody tr th {\n",
              "        vertical-align: top;\n",
              "    }\n",
              "\n",
              "    .dataframe thead th {\n",
              "        text-align: right;\n",
              "    }\n",
              "</style>\n",
              "<table border=\"1\" class=\"dataframe\">\n",
              "  <thead>\n",
              "    <tr style=\"text-align: right;\">\n",
              "      <th></th>\n",
              "      <th>count</th>\n",
              "    </tr>\n",
              "    <tr>\n",
              "      <th>user_sentiment</th>\n",
              "      <th></th>\n",
              "    </tr>\n",
              "  </thead>\n",
              "  <tbody>\n",
              "    <tr>\n",
              "      <th>Positive</th>\n",
              "      <td>26632</td>\n",
              "    </tr>\n",
              "    <tr>\n",
              "      <th>Negative</th>\n",
              "      <td>3367</td>\n",
              "    </tr>\n",
              "  </tbody>\n",
              "</table>\n",
              "</div><br><label><b>dtype:</b> int64</label>"
            ]
          },
          "metadata": {},
          "execution_count": 13
        }
      ],
      "source": [
        "df['user_sentiment'].value_counts()"
      ]
    },
    {
      "cell_type": "markdown",
      "metadata": {
        "id": "saU1TNGidgoN"
      },
      "source": [
        "Changing the data type of User_Sentiment from Positive / Negative to 1 and 0 and the single missing value with 1 as the positive sentiment has high value count."
      ]
    },
    {
      "cell_type": "code",
      "execution_count": 14,
      "metadata": {
        "id": "IaMzurWzb7CX"
      },
      "outputs": [],
      "source": [
        "df['user_sentiment'] = df['user_sentiment'].str.lower()\n",
        "df['user_sentiment'] = df['user_sentiment'].map({'positive': 1, 'negative': 0})\n",
        "df['user_sentiment'] = df['user_sentiment'].fillna(1).astype(int)"
      ]
    },
    {
      "cell_type": "markdown",
      "metadata": {
        "id": "odhDpP0vfT7R"
      },
      "source": [
        "Extracting Year, Month and Date of reviews from the review_date column for EDA and dropping the column review_date and filling missing values with the most occuring value."
      ]
    },
    {
      "cell_type": "code",
      "execution_count": 15,
      "metadata": {
        "id": "5kTF4srSeuyo"
      },
      "outputs": [],
      "source": [
        "# Convert to datetime\n",
        "df['reviews_date'] = pd.to_datetime(df['reviews_date'], errors='coerce')\n",
        "\n",
        "# Extract date parts\n",
        "df['review_year'] = df['reviews_date'].dt.year\n",
        "\n",
        "\n",
        "# Fill missing values and converting to int\n",
        "df['review_year'] = df['review_year'].fillna(df['review_year'].mode()[0]).astype(int)\n",
        "\n",
        "\n"
      ]
    },
    {
      "cell_type": "code",
      "execution_count": 16,
      "metadata": {
        "id": "ao6AhQvsexVI"
      },
      "outputs": [],
      "source": [
        "df= df.drop(['reviews_date'],axis=1)"
      ]
    },
    {
      "cell_type": "code",
      "execution_count": 17,
      "metadata": {
        "colab": {
          "base_uri": "https://localhost:8080/",
          "height": 489
        },
        "id": "6kBV_fhsfw4J",
        "outputId": "9e5c7974-89ab-4f1a-ca51-03644b71265e"
      },
      "outputs": [
        {
          "output_type": "execute_result",
          "data": {
            "text/plain": [
              "brand\n",
              "Clorox                   10585\n",
              "Warner Home Video         3325\n",
              "Disney                    1200\n",
              "L'oreal Paris             1186\n",
              "FOX                        887\n",
              "                         ...  \n",
              "Pacific Natural Foods        1\n",
              "LDR                          1\n",
              "National Mfg.                1\n",
              "Walkers                      1\n",
              "Bodycology                   1\n",
              "Name: count, Length: 214, dtype: int64"
            ],
            "text/html": [
              "<div>\n",
              "<style scoped>\n",
              "    .dataframe tbody tr th:only-of-type {\n",
              "        vertical-align: middle;\n",
              "    }\n",
              "\n",
              "    .dataframe tbody tr th {\n",
              "        vertical-align: top;\n",
              "    }\n",
              "\n",
              "    .dataframe thead th {\n",
              "        text-align: right;\n",
              "    }\n",
              "</style>\n",
              "<table border=\"1\" class=\"dataframe\">\n",
              "  <thead>\n",
              "    <tr style=\"text-align: right;\">\n",
              "      <th></th>\n",
              "      <th>count</th>\n",
              "    </tr>\n",
              "    <tr>\n",
              "      <th>brand</th>\n",
              "      <th></th>\n",
              "    </tr>\n",
              "  </thead>\n",
              "  <tbody>\n",
              "    <tr>\n",
              "      <th>Clorox</th>\n",
              "      <td>10585</td>\n",
              "    </tr>\n",
              "    <tr>\n",
              "      <th>Warner Home Video</th>\n",
              "      <td>3325</td>\n",
              "    </tr>\n",
              "    <tr>\n",
              "      <th>Disney</th>\n",
              "      <td>1200</td>\n",
              "    </tr>\n",
              "    <tr>\n",
              "      <th>L'oreal Paris</th>\n",
              "      <td>1186</td>\n",
              "    </tr>\n",
              "    <tr>\n",
              "      <th>FOX</th>\n",
              "      <td>887</td>\n",
              "    </tr>\n",
              "    <tr>\n",
              "      <th>...</th>\n",
              "      <td>...</td>\n",
              "    </tr>\n",
              "    <tr>\n",
              "      <th>Pacific Natural Foods</th>\n",
              "      <td>1</td>\n",
              "    </tr>\n",
              "    <tr>\n",
              "      <th>LDR</th>\n",
              "      <td>1</td>\n",
              "    </tr>\n",
              "    <tr>\n",
              "      <th>National Mfg.</th>\n",
              "      <td>1</td>\n",
              "    </tr>\n",
              "    <tr>\n",
              "      <th>Walkers</th>\n",
              "      <td>1</td>\n",
              "    </tr>\n",
              "    <tr>\n",
              "      <th>Bodycology</th>\n",
              "      <td>1</td>\n",
              "    </tr>\n",
              "  </tbody>\n",
              "</table>\n",
              "<p>214 rows × 1 columns</p>\n",
              "</div><br><label><b>dtype:</b> int64</label>"
            ]
          },
          "metadata": {},
          "execution_count": 17
        }
      ],
      "source": [
        "df['brand'].value_counts()"
      ]
    },
    {
      "cell_type": "code",
      "execution_count": 18,
      "metadata": {
        "colab": {
          "base_uri": "https://localhost:8080/",
          "height": 489
        },
        "id": "DxXkEjhvgBAf",
        "outputId": "d108982a-4efa-4612-9c22-427914e38833"
      },
      "outputs": [
        {
          "output_type": "execute_result",
          "data": {
            "text/plain": [
              "manufacturer\n",
              "Clorox               8546\n",
              "Test                 3325\n",
              "AmazonUs/CLOO7       2039\n",
              "L'oreal Paris        1232\n",
              "Walt Disney          1143\n",
              "                     ... \n",
              "Unfi                    1\n",
              "LDR                     1\n",
              "Stanley Hardware        1\n",
              "KeHE Distributors       1\n",
              "Advanced Beauty         1\n",
              "Name: count, Length: 227, dtype: int64"
            ],
            "text/html": [
              "<div>\n",
              "<style scoped>\n",
              "    .dataframe tbody tr th:only-of-type {\n",
              "        vertical-align: middle;\n",
              "    }\n",
              "\n",
              "    .dataframe tbody tr th {\n",
              "        vertical-align: top;\n",
              "    }\n",
              "\n",
              "    .dataframe thead th {\n",
              "        text-align: right;\n",
              "    }\n",
              "</style>\n",
              "<table border=\"1\" class=\"dataframe\">\n",
              "  <thead>\n",
              "    <tr style=\"text-align: right;\">\n",
              "      <th></th>\n",
              "      <th>count</th>\n",
              "    </tr>\n",
              "    <tr>\n",
              "      <th>manufacturer</th>\n",
              "      <th></th>\n",
              "    </tr>\n",
              "  </thead>\n",
              "  <tbody>\n",
              "    <tr>\n",
              "      <th>Clorox</th>\n",
              "      <td>8546</td>\n",
              "    </tr>\n",
              "    <tr>\n",
              "      <th>Test</th>\n",
              "      <td>3325</td>\n",
              "    </tr>\n",
              "    <tr>\n",
              "      <th>AmazonUs/CLOO7</th>\n",
              "      <td>2039</td>\n",
              "    </tr>\n",
              "    <tr>\n",
              "      <th>L'oreal Paris</th>\n",
              "      <td>1232</td>\n",
              "    </tr>\n",
              "    <tr>\n",
              "      <th>Walt Disney</th>\n",
              "      <td>1143</td>\n",
              "    </tr>\n",
              "    <tr>\n",
              "      <th>...</th>\n",
              "      <td>...</td>\n",
              "    </tr>\n",
              "    <tr>\n",
              "      <th>Unfi</th>\n",
              "      <td>1</td>\n",
              "    </tr>\n",
              "    <tr>\n",
              "      <th>LDR</th>\n",
              "      <td>1</td>\n",
              "    </tr>\n",
              "    <tr>\n",
              "      <th>Stanley Hardware</th>\n",
              "      <td>1</td>\n",
              "    </tr>\n",
              "    <tr>\n",
              "      <th>KeHE Distributors</th>\n",
              "      <td>1</td>\n",
              "    </tr>\n",
              "    <tr>\n",
              "      <th>Advanced Beauty</th>\n",
              "      <td>1</td>\n",
              "    </tr>\n",
              "  </tbody>\n",
              "</table>\n",
              "<p>227 rows × 1 columns</p>\n",
              "</div><br><label><b>dtype:</b> int64</label>"
            ]
          },
          "metadata": {},
          "execution_count": 18
        }
      ],
      "source": [
        "df['manufacturer'].value_counts()"
      ]
    },
    {
      "cell_type": "markdown",
      "metadata": {
        "id": "cI7y5mrM1EA8"
      },
      "source": [
        "Combining the Brand and Manufacturer columns to a single column for ease of analysis and deleting the individual columns"
      ]
    },
    {
      "cell_type": "code",
      "execution_count": 19,
      "metadata": {
        "id": "_5SC60AMgK0Z"
      },
      "outputs": [],
      "source": [
        "def combine_brand_manufacturer(row):\n",
        "    if pd.isna(row['brand']):\n",
        "        return row['manufacturer']\n",
        "    if pd.isna(row['manufacturer']):\n",
        "        return row['brand']\n",
        "    if row['brand'].lower() == row['manufacturer'].lower():\n",
        "        return row['brand']\n",
        "    return row['brand'] + \"_\" + row['manufacturer']\n",
        "\n",
        "df['brand_combined'] = df.apply(combine_brand_manufacturer, axis=1)\n",
        "\n"
      ]
    },
    {
      "cell_type": "code",
      "execution_count": 20,
      "metadata": {
        "id": "G-L9uRiwgtWW"
      },
      "outputs": [],
      "source": [
        "df = df.drop(['brand', 'manufacturer'], axis=1)"
      ]
    },
    {
      "cell_type": "code",
      "execution_count": 21,
      "metadata": {
        "colab": {
          "base_uri": "https://localhost:8080/",
          "height": 458
        },
        "id": "iOeUowsl1wLs",
        "outputId": "6fc30104-40f1-435d-9ed7-912566ed4102"
      },
      "outputs": [
        {
          "output_type": "execute_result",
          "data": {
            "text/plain": [
              "0        Universal Music_Universal Music Group / Cash M...\n",
              "1                                                 Lundberg\n",
              "2                                                 Lundberg\n",
              "3                                                      K-Y\n",
              "4                                                      K-Y\n",
              "                               ...                        \n",
              "29995                                        L'oreal Paris\n",
              "29996                                        L'oreal Paris\n",
              "29997                                        L'oreal Paris\n",
              "29998                                        L'oreal Paris\n",
              "29999                                        L'oreal Paris\n",
              "Name: brand_combined, Length: 30000, dtype: object"
            ],
            "text/html": [
              "<div>\n",
              "<style scoped>\n",
              "    .dataframe tbody tr th:only-of-type {\n",
              "        vertical-align: middle;\n",
              "    }\n",
              "\n",
              "    .dataframe tbody tr th {\n",
              "        vertical-align: top;\n",
              "    }\n",
              "\n",
              "    .dataframe thead th {\n",
              "        text-align: right;\n",
              "    }\n",
              "</style>\n",
              "<table border=\"1\" class=\"dataframe\">\n",
              "  <thead>\n",
              "    <tr style=\"text-align: right;\">\n",
              "      <th></th>\n",
              "      <th>brand_combined</th>\n",
              "    </tr>\n",
              "  </thead>\n",
              "  <tbody>\n",
              "    <tr>\n",
              "      <th>0</th>\n",
              "      <td>Universal Music_Universal Music Group / Cash M...</td>\n",
              "    </tr>\n",
              "    <tr>\n",
              "      <th>1</th>\n",
              "      <td>Lundberg</td>\n",
              "    </tr>\n",
              "    <tr>\n",
              "      <th>2</th>\n",
              "      <td>Lundberg</td>\n",
              "    </tr>\n",
              "    <tr>\n",
              "      <th>3</th>\n",
              "      <td>K-Y</td>\n",
              "    </tr>\n",
              "    <tr>\n",
              "      <th>4</th>\n",
              "      <td>K-Y</td>\n",
              "    </tr>\n",
              "    <tr>\n",
              "      <th>...</th>\n",
              "      <td>...</td>\n",
              "    </tr>\n",
              "    <tr>\n",
              "      <th>29995</th>\n",
              "      <td>L'oreal Paris</td>\n",
              "    </tr>\n",
              "    <tr>\n",
              "      <th>29996</th>\n",
              "      <td>L'oreal Paris</td>\n",
              "    </tr>\n",
              "    <tr>\n",
              "      <th>29997</th>\n",
              "      <td>L'oreal Paris</td>\n",
              "    </tr>\n",
              "    <tr>\n",
              "      <th>29998</th>\n",
              "      <td>L'oreal Paris</td>\n",
              "    </tr>\n",
              "    <tr>\n",
              "      <th>29999</th>\n",
              "      <td>L'oreal Paris</td>\n",
              "    </tr>\n",
              "  </tbody>\n",
              "</table>\n",
              "<p>30000 rows × 1 columns</p>\n",
              "</div><br><label><b>dtype:</b> object</label>"
            ]
          },
          "metadata": {},
          "execution_count": 21
        }
      ],
      "source": [
        "df['brand_combined']"
      ]
    },
    {
      "cell_type": "markdown",
      "metadata": {
        "id": "KB_xODMU2MU3"
      },
      "source": [
        "Combining review_title and review_text to a single  column and deleting the individual columns."
      ]
    },
    {
      "cell_type": "code",
      "execution_count": 22,
      "metadata": {
        "id": "KBtEkEYL10u4"
      },
      "outputs": [],
      "source": [
        "\n",
        "df['reviews_title'] = df['reviews_title'].fillna('').astype(str)\n",
        "df['reviews_text'] = df['reviews_text'].fillna('').astype(str)\n",
        "\n",
        "\n",
        "df['review'] = (df['reviews_title'] + ' ' + df['reviews_text']).str.strip()\n"
      ]
    },
    {
      "cell_type": "code",
      "execution_count": 23,
      "metadata": {
        "id": "P4raqDrD28x6"
      },
      "outputs": [],
      "source": [
        "df = df.drop(['reviews_title','reviews_text'],axis=1)"
      ]
    },
    {
      "cell_type": "code",
      "execution_count": 24,
      "metadata": {
        "colab": {
          "base_uri": "https://localhost:8080/"
        },
        "id": "MltJZLvJ3Hq_",
        "outputId": "19e85a94-1aca-46e0-b44d-ebd217b9e8e1"
      },
      "outputs": [
        {
          "output_type": "stream",
          "name": "stdout",
          "text": [
            "<class 'pandas.core.frame.DataFrame'>\n",
            "RangeIndex: 30000 entries, 0 to 29999\n",
            "Data columns (total 10 columns):\n",
            " #   Column               Non-Null Count  Dtype \n",
            "---  ------               --------------  ----- \n",
            " 0   categories           30000 non-null  object\n",
            " 1   name                 30000 non-null  object\n",
            " 2   reviews_didPurchase  30000 non-null  int64 \n",
            " 3   reviews_doRecommend  30000 non-null  int64 \n",
            " 4   reviews_rating       30000 non-null  int64 \n",
            " 5   reviews_username     29937 non-null  object\n",
            " 6   user_sentiment       30000 non-null  int64 \n",
            " 7   review_year          30000 non-null  int64 \n",
            " 8   brand_combined       30000 non-null  object\n",
            " 9   review               30000 non-null  object\n",
            "dtypes: int64(5), object(5)\n",
            "memory usage: 2.3+ MB\n"
          ]
        }
      ],
      "source": [
        "df.info()"
      ]
    },
    {
      "cell_type": "markdown",
      "metadata": {
        "id": "pjolLVRo4sgz"
      },
      "source": [
        "Dropping rows with missing reviews_username values, as usernames are essential for building the recommendation system. Since these null values account for only 0.2% of the data, their removal is unlikely to impact the overall analysis."
      ]
    },
    {
      "cell_type": "code",
      "execution_count": 25,
      "metadata": {
        "id": "kfcA89Ks4qJZ"
      },
      "outputs": [],
      "source": [
        "df = df.dropna(subset=['reviews_username'])"
      ]
    },
    {
      "cell_type": "code",
      "execution_count": 26,
      "metadata": {
        "colab": {
          "base_uri": "https://localhost:8080/"
        },
        "id": "DusTVkHh3KnY",
        "outputId": "42ebfd49-a44e-4f3d-e611-60064b06fb58"
      },
      "outputs": [
        {
          "output_type": "stream",
          "name": "stdout",
          "text": [
            "<class 'pandas.core.frame.DataFrame'>\n",
            "Index: 29937 entries, 0 to 29999\n",
            "Data columns (total 10 columns):\n",
            " #   Column               Non-Null Count  Dtype \n",
            "---  ------               --------------  ----- \n",
            " 0   categories           29937 non-null  object\n",
            " 1   name                 29937 non-null  object\n",
            " 2   reviews_didPurchase  29937 non-null  int64 \n",
            " 3   reviews_doRecommend  29937 non-null  int64 \n",
            " 4   reviews_rating       29937 non-null  int64 \n",
            " 5   reviews_username     29937 non-null  object\n",
            " 6   user_sentiment       29937 non-null  int64 \n",
            " 7   review_year          29937 non-null  int64 \n",
            " 8   brand_combined       29937 non-null  object\n",
            " 9   review               29937 non-null  object\n",
            "dtypes: int64(5), object(5)\n",
            "memory usage: 2.5+ MB\n"
          ]
        }
      ],
      "source": [
        "df.info()"
      ]
    },
    {
      "cell_type": "code",
      "execution_count": 27,
      "metadata": {
        "colab": {
          "base_uri": "https://localhost:8080/",
          "height": 1000
        },
        "id": "qkW4sT9n5gdT",
        "outputId": "b31b9267-aa0d-479c-a22c-822e74822ecb"
      },
      "outputs": [
        {
          "output_type": "execute_result",
          "data": {
            "text/plain": [
              "                                          categories  \\\n",
              "0  Movies, Music & Books,Music,R&b,Movies & TV,Mo...   \n",
              "1  Food,Packaged Foods,Snacks,Crackers,Snacks, Co...   \n",
              "2  Food,Packaged Foods,Snacks,Crackers,Snacks, Co...   \n",
              "3  Personal Care,Medicine Cabinet,Lubricant/Sperm...   \n",
              "4  Personal Care,Medicine Cabinet,Lubricant/Sperm...   \n",
              "5  Personal Care,Medicine Cabinet,Lubricant/Sperm...   \n",
              "6  Personal Care,Medicine Cabinet,Lubricant/Sperm...   \n",
              "7  Personal Care,Medicine Cabinet,Lubricant/Sperm...   \n",
              "8  Personal Care,Medicine Cabinet,Lubricant/Sperm...   \n",
              "9  Personal Care,Medicine Cabinet,Lubricant/Sperm...   \n",
              "\n",
              "                                         name  reviews_didPurchase  \\\n",
              "0   Pink Friday: Roman Reloaded Re-Up (w/dvd)                   -1   \n",
              "1  Lundberg Organic Cinnamon Toast Rice Cakes                    1   \n",
              "2  Lundberg Organic Cinnamon Toast Rice Cakes                    1   \n",
              "3            K-Y Love Sensuality Pleasure Gel                    0   \n",
              "4            K-Y Love Sensuality Pleasure Gel                    0   \n",
              "5            K-Y Love Sensuality Pleasure Gel                    0   \n",
              "6            K-Y Love Sensuality Pleasure Gel                    0   \n",
              "7            K-Y Love Sensuality Pleasure Gel                    0   \n",
              "8            K-Y Love Sensuality Pleasure Gel                    0   \n",
              "9            K-Y Love Sensuality Pleasure Gel                    0   \n",
              "\n",
              "   reviews_doRecommend  reviews_rating reviews_username  user_sentiment  \\\n",
              "0                   -1               5           joshua               1   \n",
              "1                   -1               5        dorothy w               1   \n",
              "2                   -1               5        dorothy w               1   \n",
              "3                    0               1          rebecca               0   \n",
              "4                    0               1        walker557               0   \n",
              "5                    0               1         samantha               0   \n",
              "6                    0               1          raeanne               0   \n",
              "7                    0               1           kimmie               0   \n",
              "8                    0               1           cassie               0   \n",
              "9                    0               1         moore222               1   \n",
              "\n",
              "   review_year                                     brand_combined  \\\n",
              "0         2012  Universal Music_Universal Music Group / Cash M...   \n",
              "1         2017                                           Lundberg   \n",
              "2         2017                                           Lundberg   \n",
              "3         2016                                                K-Y   \n",
              "4         2016                                                K-Y   \n",
              "5         2016                                                K-Y   \n",
              "6         2016                                                K-Y   \n",
              "7         2016                                                K-Y   \n",
              "8         2016                                                K-Y   \n",
              "9         2016                                                K-Y   \n",
              "\n",
              "                                              review  \n",
              "0  Just Awesome i love this album. it's very good...  \n",
              "1  Good Good flavor. This review was collected as...  \n",
              "2                                  Good Good flavor.  \n",
              "3  Disappointed I read through the reviews on her...  \n",
              "4  Irritation My husband bought this gel for us. ...  \n",
              "5  Not worth it My boyfriend and I bought this to...  \n",
              "6  Disappointing Bought this earlier today and wa...  \n",
              "7  Not happy at all I bought this product for my ...  \n",
              "8  Very disappointing My husband and I bought thi...  \n",
              "9  Don't buy Got as a surprise for my husband the...  "
            ],
            "text/html": [
              "\n",
              "  <div id=\"df-5f8245ca-6863-413b-b4bd-98e3b643d2b7\" class=\"colab-df-container\">\n",
              "    <div>\n",
              "<style scoped>\n",
              "    .dataframe tbody tr th:only-of-type {\n",
              "        vertical-align: middle;\n",
              "    }\n",
              "\n",
              "    .dataframe tbody tr th {\n",
              "        vertical-align: top;\n",
              "    }\n",
              "\n",
              "    .dataframe thead th {\n",
              "        text-align: right;\n",
              "    }\n",
              "</style>\n",
              "<table border=\"1\" class=\"dataframe\">\n",
              "  <thead>\n",
              "    <tr style=\"text-align: right;\">\n",
              "      <th></th>\n",
              "      <th>categories</th>\n",
              "      <th>name</th>\n",
              "      <th>reviews_didPurchase</th>\n",
              "      <th>reviews_doRecommend</th>\n",
              "      <th>reviews_rating</th>\n",
              "      <th>reviews_username</th>\n",
              "      <th>user_sentiment</th>\n",
              "      <th>review_year</th>\n",
              "      <th>brand_combined</th>\n",
              "      <th>review</th>\n",
              "    </tr>\n",
              "  </thead>\n",
              "  <tbody>\n",
              "    <tr>\n",
              "      <th>0</th>\n",
              "      <td>Movies, Music &amp; Books,Music,R&amp;b,Movies &amp; TV,Mo...</td>\n",
              "      <td>Pink Friday: Roman Reloaded Re-Up (w/dvd)</td>\n",
              "      <td>-1</td>\n",
              "      <td>-1</td>\n",
              "      <td>5</td>\n",
              "      <td>joshua</td>\n",
              "      <td>1</td>\n",
              "      <td>2012</td>\n",
              "      <td>Universal Music_Universal Music Group / Cash M...</td>\n",
              "      <td>Just Awesome i love this album. it's very good...</td>\n",
              "    </tr>\n",
              "    <tr>\n",
              "      <th>1</th>\n",
              "      <td>Food,Packaged Foods,Snacks,Crackers,Snacks, Co...</td>\n",
              "      <td>Lundberg Organic Cinnamon Toast Rice Cakes</td>\n",
              "      <td>1</td>\n",
              "      <td>-1</td>\n",
              "      <td>5</td>\n",
              "      <td>dorothy w</td>\n",
              "      <td>1</td>\n",
              "      <td>2017</td>\n",
              "      <td>Lundberg</td>\n",
              "      <td>Good Good flavor. This review was collected as...</td>\n",
              "    </tr>\n",
              "    <tr>\n",
              "      <th>2</th>\n",
              "      <td>Food,Packaged Foods,Snacks,Crackers,Snacks, Co...</td>\n",
              "      <td>Lundberg Organic Cinnamon Toast Rice Cakes</td>\n",
              "      <td>1</td>\n",
              "      <td>-1</td>\n",
              "      <td>5</td>\n",
              "      <td>dorothy w</td>\n",
              "      <td>1</td>\n",
              "      <td>2017</td>\n",
              "      <td>Lundberg</td>\n",
              "      <td>Good Good flavor.</td>\n",
              "    </tr>\n",
              "    <tr>\n",
              "      <th>3</th>\n",
              "      <td>Personal Care,Medicine Cabinet,Lubricant/Sperm...</td>\n",
              "      <td>K-Y Love Sensuality Pleasure Gel</td>\n",
              "      <td>0</td>\n",
              "      <td>0</td>\n",
              "      <td>1</td>\n",
              "      <td>rebecca</td>\n",
              "      <td>0</td>\n",
              "      <td>2016</td>\n",
              "      <td>K-Y</td>\n",
              "      <td>Disappointed I read through the reviews on her...</td>\n",
              "    </tr>\n",
              "    <tr>\n",
              "      <th>4</th>\n",
              "      <td>Personal Care,Medicine Cabinet,Lubricant/Sperm...</td>\n",
              "      <td>K-Y Love Sensuality Pleasure Gel</td>\n",
              "      <td>0</td>\n",
              "      <td>0</td>\n",
              "      <td>1</td>\n",
              "      <td>walker557</td>\n",
              "      <td>0</td>\n",
              "      <td>2016</td>\n",
              "      <td>K-Y</td>\n",
              "      <td>Irritation My husband bought this gel for us. ...</td>\n",
              "    </tr>\n",
              "    <tr>\n",
              "      <th>5</th>\n",
              "      <td>Personal Care,Medicine Cabinet,Lubricant/Sperm...</td>\n",
              "      <td>K-Y Love Sensuality Pleasure Gel</td>\n",
              "      <td>0</td>\n",
              "      <td>0</td>\n",
              "      <td>1</td>\n",
              "      <td>samantha</td>\n",
              "      <td>0</td>\n",
              "      <td>2016</td>\n",
              "      <td>K-Y</td>\n",
              "      <td>Not worth it My boyfriend and I bought this to...</td>\n",
              "    </tr>\n",
              "    <tr>\n",
              "      <th>6</th>\n",
              "      <td>Personal Care,Medicine Cabinet,Lubricant/Sperm...</td>\n",
              "      <td>K-Y Love Sensuality Pleasure Gel</td>\n",
              "      <td>0</td>\n",
              "      <td>0</td>\n",
              "      <td>1</td>\n",
              "      <td>raeanne</td>\n",
              "      <td>0</td>\n",
              "      <td>2016</td>\n",
              "      <td>K-Y</td>\n",
              "      <td>Disappointing Bought this earlier today and wa...</td>\n",
              "    </tr>\n",
              "    <tr>\n",
              "      <th>7</th>\n",
              "      <td>Personal Care,Medicine Cabinet,Lubricant/Sperm...</td>\n",
              "      <td>K-Y Love Sensuality Pleasure Gel</td>\n",
              "      <td>0</td>\n",
              "      <td>0</td>\n",
              "      <td>1</td>\n",
              "      <td>kimmie</td>\n",
              "      <td>0</td>\n",
              "      <td>2016</td>\n",
              "      <td>K-Y</td>\n",
              "      <td>Not happy at all I bought this product for my ...</td>\n",
              "    </tr>\n",
              "    <tr>\n",
              "      <th>8</th>\n",
              "      <td>Personal Care,Medicine Cabinet,Lubricant/Sperm...</td>\n",
              "      <td>K-Y Love Sensuality Pleasure Gel</td>\n",
              "      <td>0</td>\n",
              "      <td>0</td>\n",
              "      <td>1</td>\n",
              "      <td>cassie</td>\n",
              "      <td>0</td>\n",
              "      <td>2016</td>\n",
              "      <td>K-Y</td>\n",
              "      <td>Very disappointing My husband and I bought thi...</td>\n",
              "    </tr>\n",
              "    <tr>\n",
              "      <th>9</th>\n",
              "      <td>Personal Care,Medicine Cabinet,Lubricant/Sperm...</td>\n",
              "      <td>K-Y Love Sensuality Pleasure Gel</td>\n",
              "      <td>0</td>\n",
              "      <td>0</td>\n",
              "      <td>1</td>\n",
              "      <td>moore222</td>\n",
              "      <td>1</td>\n",
              "      <td>2016</td>\n",
              "      <td>K-Y</td>\n",
              "      <td>Don't buy Got as a surprise for my husband the...</td>\n",
              "    </tr>\n",
              "  </tbody>\n",
              "</table>\n",
              "</div>\n",
              "    <div class=\"colab-df-buttons\">\n",
              "\n",
              "  <div class=\"colab-df-container\">\n",
              "    <button class=\"colab-df-convert\" onclick=\"convertToInteractive('df-5f8245ca-6863-413b-b4bd-98e3b643d2b7')\"\n",
              "            title=\"Convert this dataframe to an interactive table.\"\n",
              "            style=\"display:none;\">\n",
              "\n",
              "  <svg xmlns=\"http://www.w3.org/2000/svg\" height=\"24px\" viewBox=\"0 -960 960 960\">\n",
              "    <path d=\"M120-120v-720h720v720H120Zm60-500h600v-160H180v160Zm220 220h160v-160H400v160Zm0 220h160v-160H400v160ZM180-400h160v-160H180v160Zm440 0h160v-160H620v160ZM180-180h160v-160H180v160Zm440 0h160v-160H620v160Z\"/>\n",
              "  </svg>\n",
              "    </button>\n",
              "\n",
              "  <style>\n",
              "    .colab-df-container {\n",
              "      display:flex;\n",
              "      gap: 12px;\n",
              "    }\n",
              "\n",
              "    .colab-df-convert {\n",
              "      background-color: #E8F0FE;\n",
              "      border: none;\n",
              "      border-radius: 50%;\n",
              "      cursor: pointer;\n",
              "      display: none;\n",
              "      fill: #1967D2;\n",
              "      height: 32px;\n",
              "      padding: 0 0 0 0;\n",
              "      width: 32px;\n",
              "    }\n",
              "\n",
              "    .colab-df-convert:hover {\n",
              "      background-color: #E2EBFA;\n",
              "      box-shadow: 0px 1px 2px rgba(60, 64, 67, 0.3), 0px 1px 3px 1px rgba(60, 64, 67, 0.15);\n",
              "      fill: #174EA6;\n",
              "    }\n",
              "\n",
              "    .colab-df-buttons div {\n",
              "      margin-bottom: 4px;\n",
              "    }\n",
              "\n",
              "    [theme=dark] .colab-df-convert {\n",
              "      background-color: #3B4455;\n",
              "      fill: #D2E3FC;\n",
              "    }\n",
              "\n",
              "    [theme=dark] .colab-df-convert:hover {\n",
              "      background-color: #434B5C;\n",
              "      box-shadow: 0px 1px 3px 1px rgba(0, 0, 0, 0.15);\n",
              "      filter: drop-shadow(0px 1px 2px rgba(0, 0, 0, 0.3));\n",
              "      fill: #FFFFFF;\n",
              "    }\n",
              "  </style>\n",
              "\n",
              "    <script>\n",
              "      const buttonEl =\n",
              "        document.querySelector('#df-5f8245ca-6863-413b-b4bd-98e3b643d2b7 button.colab-df-convert');\n",
              "      buttonEl.style.display =\n",
              "        google.colab.kernel.accessAllowed ? 'block' : 'none';\n",
              "\n",
              "      async function convertToInteractive(key) {\n",
              "        const element = document.querySelector('#df-5f8245ca-6863-413b-b4bd-98e3b643d2b7');\n",
              "        const dataTable =\n",
              "          await google.colab.kernel.invokeFunction('convertToInteractive',\n",
              "                                                    [key], {});\n",
              "        if (!dataTable) return;\n",
              "\n",
              "        const docLinkHtml = 'Like what you see? Visit the ' +\n",
              "          '<a target=\"_blank\" href=https://colab.research.google.com/notebooks/data_table.ipynb>data table notebook</a>'\n",
              "          + ' to learn more about interactive tables.';\n",
              "        element.innerHTML = '';\n",
              "        dataTable['output_type'] = 'display_data';\n",
              "        await google.colab.output.renderOutput(dataTable, element);\n",
              "        const docLink = document.createElement('div');\n",
              "        docLink.innerHTML = docLinkHtml;\n",
              "        element.appendChild(docLink);\n",
              "      }\n",
              "    </script>\n",
              "  </div>\n",
              "\n",
              "\n",
              "    <div id=\"df-35c09bec-c84e-4998-845b-c3dea7052cc5\">\n",
              "      <button class=\"colab-df-quickchart\" onclick=\"quickchart('df-35c09bec-c84e-4998-845b-c3dea7052cc5')\"\n",
              "                title=\"Suggest charts\"\n",
              "                style=\"display:none;\">\n",
              "\n",
              "<svg xmlns=\"http://www.w3.org/2000/svg\" height=\"24px\"viewBox=\"0 0 24 24\"\n",
              "     width=\"24px\">\n",
              "    <g>\n",
              "        <path d=\"M19 3H5c-1.1 0-2 .9-2 2v14c0 1.1.9 2 2 2h14c1.1 0 2-.9 2-2V5c0-1.1-.9-2-2-2zM9 17H7v-7h2v7zm4 0h-2V7h2v10zm4 0h-2v-4h2v4z\"/>\n",
              "    </g>\n",
              "</svg>\n",
              "      </button>\n",
              "\n",
              "<style>\n",
              "  .colab-df-quickchart {\n",
              "      --bg-color: #E8F0FE;\n",
              "      --fill-color: #1967D2;\n",
              "      --hover-bg-color: #E2EBFA;\n",
              "      --hover-fill-color: #174EA6;\n",
              "      --disabled-fill-color: #AAA;\n",
              "      --disabled-bg-color: #DDD;\n",
              "  }\n",
              "\n",
              "  [theme=dark] .colab-df-quickchart {\n",
              "      --bg-color: #3B4455;\n",
              "      --fill-color: #D2E3FC;\n",
              "      --hover-bg-color: #434B5C;\n",
              "      --hover-fill-color: #FFFFFF;\n",
              "      --disabled-bg-color: #3B4455;\n",
              "      --disabled-fill-color: #666;\n",
              "  }\n",
              "\n",
              "  .colab-df-quickchart {\n",
              "    background-color: var(--bg-color);\n",
              "    border: none;\n",
              "    border-radius: 50%;\n",
              "    cursor: pointer;\n",
              "    display: none;\n",
              "    fill: var(--fill-color);\n",
              "    height: 32px;\n",
              "    padding: 0;\n",
              "    width: 32px;\n",
              "  }\n",
              "\n",
              "  .colab-df-quickchart:hover {\n",
              "    background-color: var(--hover-bg-color);\n",
              "    box-shadow: 0 1px 2px rgba(60, 64, 67, 0.3), 0 1px 3px 1px rgba(60, 64, 67, 0.15);\n",
              "    fill: var(--button-hover-fill-color);\n",
              "  }\n",
              "\n",
              "  .colab-df-quickchart-complete:disabled,\n",
              "  .colab-df-quickchart-complete:disabled:hover {\n",
              "    background-color: var(--disabled-bg-color);\n",
              "    fill: var(--disabled-fill-color);\n",
              "    box-shadow: none;\n",
              "  }\n",
              "\n",
              "  .colab-df-spinner {\n",
              "    border: 2px solid var(--fill-color);\n",
              "    border-color: transparent;\n",
              "    border-bottom-color: var(--fill-color);\n",
              "    animation:\n",
              "      spin 1s steps(1) infinite;\n",
              "  }\n",
              "\n",
              "  @keyframes spin {\n",
              "    0% {\n",
              "      border-color: transparent;\n",
              "      border-bottom-color: var(--fill-color);\n",
              "      border-left-color: var(--fill-color);\n",
              "    }\n",
              "    20% {\n",
              "      border-color: transparent;\n",
              "      border-left-color: var(--fill-color);\n",
              "      border-top-color: var(--fill-color);\n",
              "    }\n",
              "    30% {\n",
              "      border-color: transparent;\n",
              "      border-left-color: var(--fill-color);\n",
              "      border-top-color: var(--fill-color);\n",
              "      border-right-color: var(--fill-color);\n",
              "    }\n",
              "    40% {\n",
              "      border-color: transparent;\n",
              "      border-right-color: var(--fill-color);\n",
              "      border-top-color: var(--fill-color);\n",
              "    }\n",
              "    60% {\n",
              "      border-color: transparent;\n",
              "      border-right-color: var(--fill-color);\n",
              "    }\n",
              "    80% {\n",
              "      border-color: transparent;\n",
              "      border-right-color: var(--fill-color);\n",
              "      border-bottom-color: var(--fill-color);\n",
              "    }\n",
              "    90% {\n",
              "      border-color: transparent;\n",
              "      border-bottom-color: var(--fill-color);\n",
              "    }\n",
              "  }\n",
              "</style>\n",
              "\n",
              "      <script>\n",
              "        async function quickchart(key) {\n",
              "          const quickchartButtonEl =\n",
              "            document.querySelector('#' + key + ' button');\n",
              "          quickchartButtonEl.disabled = true;  // To prevent multiple clicks.\n",
              "          quickchartButtonEl.classList.add('colab-df-spinner');\n",
              "          try {\n",
              "            const charts = await google.colab.kernel.invokeFunction(\n",
              "                'suggestCharts', [key], {});\n",
              "          } catch (error) {\n",
              "            console.error('Error during call to suggestCharts:', error);\n",
              "          }\n",
              "          quickchartButtonEl.classList.remove('colab-df-spinner');\n",
              "          quickchartButtonEl.classList.add('colab-df-quickchart-complete');\n",
              "        }\n",
              "        (() => {\n",
              "          let quickchartButtonEl =\n",
              "            document.querySelector('#df-35c09bec-c84e-4998-845b-c3dea7052cc5 button');\n",
              "          quickchartButtonEl.style.display =\n",
              "            google.colab.kernel.accessAllowed ? 'block' : 'none';\n",
              "        })();\n",
              "      </script>\n",
              "    </div>\n",
              "\n",
              "    </div>\n",
              "  </div>\n"
            ],
            "application/vnd.google.colaboratory.intrinsic+json": {
              "type": "dataframe",
              "variable_name": "df",
              "summary": "{\n  \"name\": \"df\",\n  \"rows\": 29937,\n  \"fields\": [\n    {\n      \"column\": \"categories\",\n      \"properties\": {\n        \"dtype\": \"category\",\n        \"num_unique_values\": 270,\n        \"samples\": [\n          \"Home,Kids' Home,Girls' Room,Girls' Room Furniture,Home Ideas, Design & Inspiration,Modern Decor,Furniture,Home Office Furniture,Bookcases,Boys' Room,Boys' Room Furniture,Office Furniture,Kids Furniture,Kids Bedroom Furniture,Bookshelves,Natural Baby Products,Arts & Crafts, Educational Toys, Books,Back to School Supplies,Classroom Furniture,Classroom Cubbies & Coat Lockers\",\n          \"Home,Home Decor,Clocks,Wall Clocks,Decor,Office Supplies,Decorative Accents,Wall Decor,Office Decor\",\n          \"Movies, Music & Books,Ways To Shop Entertainment,Movie & Tv Box Sets,Movies,Horror,Movies & TV Shows,All Horror,Movies & Tv On Blu-Ray,Movies & TV,Blu-ray,Action & Adventure,Movies & Music,Holiday Shop\"\n        ],\n        \"semantic_type\": \"\",\n        \"description\": \"\"\n      }\n    },\n    {\n      \"column\": \"name\",\n      \"properties\": {\n        \"dtype\": \"category\",\n        \"num_unique_values\": 271,\n        \"samples\": [\n          \"Way Basics 3-Shelf Eco Narrow Bookcase Storage Shelf, Espresso - Formaldehyde Free - Lifetime Guarantee\",\n          \"Pocket Watch Wall Clock Distressed Black - Yosemite Home Decor174\",\n          \"The Resident Evil Collection 5 Discs (blu-Ray)\"\n        ],\n        \"semantic_type\": \"\",\n        \"description\": \"\"\n      }\n    },\n    {\n      \"column\": \"reviews_didPurchase\",\n      \"properties\": {\n        \"dtype\": \"number\",\n        \"std\": 0,\n        \"min\": -1,\n        \"max\": 1,\n        \"num_unique_values\": 3,\n        \"samples\": [\n          -1,\n          1,\n          0\n        ],\n        \"semantic_type\": \"\",\n        \"description\": \"\"\n      }\n    },\n    {\n      \"column\": \"reviews_doRecommend\",\n      \"properties\": {\n        \"dtype\": \"number\",\n        \"std\": 0,\n        \"min\": -1,\n        \"max\": 1,\n        \"num_unique_values\": 3,\n        \"samples\": [\n          -1,\n          0,\n          1\n        ],\n        \"semantic_type\": \"\",\n        \"description\": \"\"\n      }\n    },\n    {\n      \"column\": \"reviews_rating\",\n      \"properties\": {\n        \"dtype\": \"number\",\n        \"std\": 0,\n        \"min\": 1,\n        \"max\": 5,\n        \"num_unique_values\": 5,\n        \"samples\": [\n          1,\n          2,\n          3\n        ],\n        \"semantic_type\": \"\",\n        \"description\": \"\"\n      }\n    },\n    {\n      \"column\": \"reviews_username\",\n      \"properties\": {\n        \"dtype\": \"string\",\n        \"num_unique_values\": 24914,\n        \"samples\": [\n          \"hewhois\",\n          \"george67\",\n          \"lizzy\"\n        ],\n        \"semantic_type\": \"\",\n        \"description\": \"\"\n      }\n    },\n    {\n      \"column\": \"user_sentiment\",\n      \"properties\": {\n        \"dtype\": \"number\",\n        \"std\": 0,\n        \"min\": 0,\n        \"max\": 1,\n        \"num_unique_values\": 2,\n        \"samples\": [\n          0,\n          1\n        ],\n        \"semantic_type\": \"\",\n        \"description\": \"\"\n      }\n    },\n    {\n      \"column\": \"review_year\",\n      \"properties\": {\n        \"dtype\": \"number\",\n        \"std\": 1,\n        \"min\": 2007,\n        \"max\": 2018,\n        \"num_unique_values\": 12,\n        \"samples\": [\n          2008,\n          2018\n        ],\n        \"semantic_type\": \"\",\n        \"description\": \"\"\n      }\n    },\n    {\n      \"column\": \"brand_combined\",\n      \"properties\": {\n        \"dtype\": \"category\",\n        \"num_unique_values\": 247,\n        \"samples\": [\n          \"Alberto VO5_High Ridge Brands Co.\",\n          \"Olay_P&G\"\n        ],\n        \"semantic_type\": \"\",\n        \"description\": \"\"\n      }\n    },\n    {\n      \"column\": \"review\",\n      \"properties\": {\n        \"dtype\": \"string\",\n        \"num_unique_values\": 28956,\n        \"samples\": [\n          \"Horrible shampoo now Am very displeased with the new formula. The scent doesn't last in my hair like before. I wished you all would switch back to the old formula or make both so we can choose which one we want to buy\",\n          \"Grew up on Godzilla Finally! A Godzilla movie on the right track! Loved it!\"\n        ],\n        \"semantic_type\": \"\",\n        \"description\": \"\"\n      }\n    }\n  ]\n}"
            }
          },
          "metadata": {},
          "execution_count": 27
        }
      ],
      "source": [
        "df.head(10)"
      ]
    },
    {
      "cell_type": "markdown",
      "metadata": {
        "id": "ZKzqxEU-RaML"
      },
      "source": [
        "Plotting a Bar Graph to check the user sentiment class distribution"
      ]
    },
    {
      "cell_type": "code",
      "execution_count": 28,
      "metadata": {
        "colab": {
          "base_uri": "https://localhost:8080/",
          "height": 484
        },
        "id": "4oCaYc2p5x6d",
        "outputId": "58922967-ae48-47f6-b143-8346fcca36ec"
      },
      "outputs": [
        {
          "output_type": "execute_result",
          "data": {
            "text/plain": [
              "<Axes: title={'center': 'Sentiment Class Distribution'}, xlabel='user_sentiment'>"
            ]
          },
          "metadata": {},
          "execution_count": 28
        },
        {
          "output_type": "display_data",
          "data": {
            "text/plain": [
              "<Figure size 640x480 with 1 Axes>"
            ],
            "image/png": "[encoded data removed]"
          },
          "metadata": {}
        }
      ],
      "source": [
        "df['user_sentiment'].value_counts(normalize=True).plot(kind='bar', title='Sentiment Class Distribution')\n"
      ]
    },
    {
      "cell_type": "markdown",
      "metadata": {
        "id": "n4kgLIZrRwH5"
      },
      "source": [
        "Plotting a bar graph for checking if Ratings given by a user are alligned to the User Sentiment or not."
      ]
    },
    {
      "cell_type": "code",
      "execution_count": 29,
      "metadata": {
        "colab": {
          "base_uri": "https://localhost:8080/",
          "height": 484
        },
        "id": "njopozRORpHt",
        "outputId": "d591ee73-d47c-4630-c7a8-a42b3528ebdd"
      },
      "outputs": [
        {
          "output_type": "execute_result",
          "data": {
            "text/plain": [
              "<Axes: title={'center': 'Avg Rating by Sentiment'}, xlabel='user_sentiment'>"
            ]
          },
          "metadata": {},
          "execution_count": 29
        },
        {
          "output_type": "display_data",
          "data": {
            "text/plain": [
              "<Figure size 640x480 with 1 Axes>"
            ],
            "image/png": "[encoded data removed]"
          },
          "metadata": {}
        }
      ],
      "source": [
        "df.groupby('user_sentiment')['reviews_rating'].mean().plot(kind='bar', title='Avg Rating by Sentiment')\n"
      ]
    },
    {
      "cell_type": "markdown",
      "metadata": {
        "id": "jVA25-28TEUk"
      },
      "source": [
        "Checking if  reviews or sentiments have changed over time by plotting reviews and user sentiment against review year."
      ]
    },
    {
      "cell_type": "code",
      "execution_count": 30,
      "metadata": {
        "colab": {
          "base_uri": "https://localhost:8080/",
          "height": 965
        },
        "id": "_kSdoHulSVvU",
        "outputId": "f1ac46d0-9f05-4575-8699-3650d2ac3a12"
      },
      "outputs": [
        {
          "output_type": "execute_result",
          "data": {
            "text/plain": [
              "<Axes: title={'center': 'Sentiment Over Years'}, xlabel='review_year'>"
            ]
          },
          "metadata": {},
          "execution_count": 30
        },
        {
          "output_type": "display_data",
          "data": {
            "text/plain": [
              "<Figure size 640x480 with 1 Axes>"
            ],
            "image/png": "[encoded data removed]"
          },
          "metadata": {}
        },
        {
          "output_type": "display_data",
          "data": {
            "text/plain": [
              "<Figure size 640x480 with 1 Axes>"
            ],
            "image/png": "[encoded data removed]"
          },
          "metadata": {}
        }
      ],
      "source": [
        "df.groupby('review_year')['reviews_rating'].mean().plot(title='Avg Rating by Year')\n",
        "df.groupby('review_year')['user_sentiment'].value_counts(normalize=True).unstack().plot(kind='bar', stacked=True, title='Sentiment Over Years')\n"
      ]
    },
    {
      "cell_type": "markdown",
      "metadata": {
        "id": "lLsQPlZceMCV"
      },
      "source": [
        "**Data Cleaning & EDA Summary**\n",
        "\n",
        "After addressing missing values, correcting data types, and removing irrelevant columns, the cleaned dataset contains 29,937 rows and 10 columns.\n",
        "\n",
        "**Key Insights from Exploratory Data Analysis (EDA)**:\n",
        "\n",
        "Class Imbalance in Sentiment:\n",
        "\n",
        "The user_sentiment column is heavily imbalanced, with over 90% of reviews labeled as positive and only ~10% as negative. This imbalance may affect the performance of classification models if not handled properly.\n",
        "\n",
        "Rating vs Sentiment Misalignment:\n",
        "\n",
        "While positive sentiment reviews have an average rating around 4.5, negative sentiment reviews also show an average rating between 3 and 3.6 This suggests that some negative reviews are still associated with moderately high ratings, indicating a potential mismatch between textual sentiment and numeric rating.\n",
        "\n",
        "Sentiment and Rating Shift in 2018:\n",
        "\n",
        "From 2007 to 2017, sentiment and ratings remained relatively stable, with most reviews being positive. However, in 2018, there was a notable rise in negative sentiment and lower ratings, indicating a significant shift in user feedback behavior during that year.\n"
      ]
    },
    {
      "cell_type": "markdown",
      "metadata": {
        "id": "TRMFwVNgkkTr"
      },
      "source": [
        "**Text Processing**"
      ]
    },
    {
      "cell_type": "code",
      "execution_count": 31,
      "metadata": {
        "id": "8YRaKGJpfiR2"
      },
      "outputs": [],
      "source": [
        "import re\n",
        "import nltk\n",
        "from nltk.corpus import stopwords\n",
        "from nltk.stem import WordNetLemmatizer"
      ]
    },
    {
      "cell_type": "code",
      "execution_count": 32,
      "metadata": {
        "colab": {
          "base_uri": "https://localhost:8080/"
        },
        "id": "BBLi-QPTlq4G",
        "outputId": "34000260-4b2b-4aa5-81a0-76a7c3b05211"
      },
      "outputs": [
        {
          "output_type": "stream",
          "name": "stderr",
          "text": [
            "[nltk_data] Downloading package stopwords to /root/nltk_data...\n",
            "[nltk_data]   Unzipping corpora/stopwords.zip.\n",
            "[nltk_data] Downloading package wordnet to /root/nltk_data...\n"
          ]
        },
        {
          "output_type": "execute_result",
          "data": {
            "text/plain": [
              "True"
            ]
          },
          "metadata": {},
          "execution_count": 32
        }
      ],
      "source": [
        "nltk.download('stopwords')\n",
        "nltk.download('wordnet')"
      ]
    },
    {
      "cell_type": "code",
      "execution_count": 33,
      "metadata": {
        "id": "rs4taI3glzXd"
      },
      "outputs": [],
      "source": [
        "stop_words = set(stopwords.words('english'))\n",
        "lemmatizer = WordNetLemmatizer()"
      ]
    },
    {
      "cell_type": "code",
      "execution_count": 34,
      "metadata": {
        "id": "IAvNTbzxl4gq"
      },
      "outputs": [],
      "source": [
        "def clean_basic(text):\n",
        "    text = str(text).lower()\n",
        "    text = re.sub(r\"[^a-zA-Z0-9\\s]\", \" \", text)\n",
        "    text = re.sub(r\"\\s+\", \" \", text).strip()\n",
        "    return text"
      ]
    },
    {
      "cell_type": "code",
      "execution_count": 35,
      "metadata": {
        "id": "r3OSkchVmW4W"
      },
      "outputs": [],
      "source": [
        "def clean_review(text):\n",
        "    text = str(text).lower()\n",
        "    text = re.sub(r\"<.*?>\", \" \", text)                  # Remove HTML tags\n",
        "    text = re.sub(r\"[^a-zA-Z\\s]\", \" \", text)            # Remove non-letter chars\n",
        "    text = re.sub(r\"\\s+\", \" \", text).strip()\n",
        "\n",
        "    # Tokenize and clean\n",
        "    tokens = text.split()\n",
        "    tokens = [lemmatizer.lemmatize(word) for word in tokens if word not in stop_words]\n",
        "    return \" \".join(tokens)"
      ]
    },
    {
      "cell_type": "code",
      "execution_count": 36,
      "metadata": {
        "id": "g_ocP7g_mc5G"
      },
      "outputs": [],
      "source": [
        "#Applying functions on the columns\n",
        "df['categories'] = df['categories'].map(clean_basic)\n",
        "df['name'] = df['name'].map(clean_basic)\n",
        "df['brand_combined'] = df['brand_combined'].map(clean_basic)\n",
        "df['review'] = df['review'].map(clean_review)\n"
      ]
    },
    {
      "cell_type": "code",
      "execution_count": 37,
      "metadata": {
        "colab": {
          "base_uri": "https://localhost:8080/",
          "height": 694
        },
        "id": "zdAqsXISnkIb",
        "outputId": "deaee51b-dd55-41f4-f492-a8d4466d981e"
      },
      "outputs": [
        {
          "output_type": "execute_result",
          "data": {
            "text/plain": [
              "                                          categories  \\\n",
              "0  movies music books music r b movies tv movie b...   \n",
              "1  food packaged foods snacks crackers snacks coo...   \n",
              "2  food packaged foods snacks crackers snacks coo...   \n",
              "3  personal care medicine cabinet lubricant sperm...   \n",
              "4  personal care medicine cabinet lubricant sperm...   \n",
              "\n",
              "                                         name  reviews_didPurchase  \\\n",
              "0      pink friday roman reloaded re up w dvd                   -1   \n",
              "1  lundberg organic cinnamon toast rice cakes                    1   \n",
              "2  lundberg organic cinnamon toast rice cakes                    1   \n",
              "3            k y love sensuality pleasure gel                    0   \n",
              "4            k y love sensuality pleasure gel                    0   \n",
              "\n",
              "   reviews_doRecommend  reviews_rating reviews_username  user_sentiment  \\\n",
              "0                   -1               5           joshua               1   \n",
              "1                   -1               5        dorothy w               1   \n",
              "2                   -1               5        dorothy w               1   \n",
              "3                    0               1          rebecca               0   \n",
              "4                    0               1        walker557               0   \n",
              "\n",
              "   review_year                                    brand_combined  \\\n",
              "0         2012  universal music universal music group cash money   \n",
              "1         2017                                          lundberg   \n",
              "2         2017                                          lundberg   \n",
              "3         2016                                               k y   \n",
              "4         2016                                               k y   \n",
              "\n",
              "                                              review  \n",
              "0  awesome love album good hip hop side current p...  \n",
              "1   good good flavor review collected part promotion  \n",
              "2                                   good good flavor  \n",
              "3  disappointed read review looking buying one co...  \n",
              "4  irritation husband bought gel u gel caused irr...  "
            ],
            "text/html": [
              "\n",
              "  <div id=\"df-77504138-b012-43be-aae2-2cabd338d763\" class=\"colab-df-container\">\n",
              "    <div>\n",
              "<style scoped>\n",
              "    .dataframe tbody tr th:only-of-type {\n",
              "        vertical-align: middle;\n",
              "    }\n",
              "\n",
              "    .dataframe tbody tr th {\n",
              "        vertical-align: top;\n",
              "    }\n",
              "\n",
              "    .dataframe thead th {\n",
              "        text-align: right;\n",
              "    }\n",
              "</style>\n",
              "<table border=\"1\" class=\"dataframe\">\n",
              "  <thead>\n",
              "    <tr style=\"text-align: right;\">\n",
              "      <th></th>\n",
              "      <th>categories</th>\n",
              "      <th>name</th>\n",
              "      <th>reviews_didPurchase</th>\n",
              "      <th>reviews_doRecommend</th>\n",
              "      <th>reviews_rating</th>\n",
              "      <th>reviews_username</th>\n",
              "      <th>user_sentiment</th>\n",
              "      <th>review_year</th>\n",
              "      <th>brand_combined</th>\n",
              "      <th>review</th>\n",
              "    </tr>\n",
              "  </thead>\n",
              "  <tbody>\n",
              "    <tr>\n",
              "      <th>0</th>\n",
              "      <td>movies music books music r b movies tv movie b...</td>\n",
              "      <td>pink friday roman reloaded re up w dvd</td>\n",
              "      <td>-1</td>\n",
              "      <td>-1</td>\n",
              "      <td>5</td>\n",
              "      <td>joshua</td>\n",
              "      <td>1</td>\n",
              "      <td>2012</td>\n",
              "      <td>universal music universal music group cash money</td>\n",
              "      <td>awesome love album good hip hop side current p...</td>\n",
              "    </tr>\n",
              "    <tr>\n",
              "      <th>1</th>\n",
              "      <td>food packaged foods snacks crackers snacks coo...</td>\n",
              "      <td>lundberg organic cinnamon toast rice cakes</td>\n",
              "      <td>1</td>\n",
              "      <td>-1</td>\n",
              "      <td>5</td>\n",
              "      <td>dorothy w</td>\n",
              "      <td>1</td>\n",
              "      <td>2017</td>\n",
              "      <td>lundberg</td>\n",
              "      <td>good good flavor review collected part promotion</td>\n",
              "    </tr>\n",
              "    <tr>\n",
              "      <th>2</th>\n",
              "      <td>food packaged foods snacks crackers snacks coo...</td>\n",
              "      <td>lundberg organic cinnamon toast rice cakes</td>\n",
              "      <td>1</td>\n",
              "      <td>-1</td>\n",
              "      <td>5</td>\n",
              "      <td>dorothy w</td>\n",
              "      <td>1</td>\n",
              "      <td>2017</td>\n",
              "      <td>lundberg</td>\n",
              "      <td>good good flavor</td>\n",
              "    </tr>\n",
              "    <tr>\n",
              "      <th>3</th>\n",
              "      <td>personal care medicine cabinet lubricant sperm...</td>\n",
              "      <td>k y love sensuality pleasure gel</td>\n",
              "      <td>0</td>\n",
              "      <td>0</td>\n",
              "      <td>1</td>\n",
              "      <td>rebecca</td>\n",
              "      <td>0</td>\n",
              "      <td>2016</td>\n",
              "      <td>k y</td>\n",
              "      <td>disappointed read review looking buying one co...</td>\n",
              "    </tr>\n",
              "    <tr>\n",
              "      <th>4</th>\n",
              "      <td>personal care medicine cabinet lubricant sperm...</td>\n",
              "      <td>k y love sensuality pleasure gel</td>\n",
              "      <td>0</td>\n",
              "      <td>0</td>\n",
              "      <td>1</td>\n",
              "      <td>walker557</td>\n",
              "      <td>0</td>\n",
              "      <td>2016</td>\n",
              "      <td>k y</td>\n",
              "      <td>irritation husband bought gel u gel caused irr...</td>\n",
              "    </tr>\n",
              "  </tbody>\n",
              "</table>\n",
              "</div>\n",
              "    <div class=\"colab-df-buttons\">\n",
              "\n",
              "  <div class=\"colab-df-container\">\n",
              "    <button class=\"colab-df-convert\" onclick=\"convertToInteractive('df-77504138-b012-43be-aae2-2cabd338d763')\"\n",
              "            title=\"Convert this dataframe to an interactive table.\"\n",
              "            style=\"display:none;\">\n",
              "\n",
              "  <svg xmlns=\"http://www.w3.org/2000/svg\" height=\"24px\" viewBox=\"0 -960 960 960\">\n",
              "    <path d=\"M120-120v-720h720v720H120Zm60-500h600v-160H180v160Zm220 220h160v-160H400v160Zm0 220h160v-160H400v160ZM180-400h160v-160H180v160Zm440 0h160v-160H620v160ZM180-180h160v-160H180v160Zm440 0h160v-160H620v160Z\"/>\n",
              "  </svg>\n",
              "    </button>\n",
              "\n",
              "  <style>\n",
              "    .colab-df-container {\n",
              "      display:flex;\n",
              "      gap: 12px;\n",
              "    }\n",
              "\n",
              "    .colab-df-convert {\n",
              "      background-color: #E8F0FE;\n",
              "      border: none;\n",
              "      border-radius: 50%;\n",
              "      cursor: pointer;\n",
              "      display: none;\n",
              "      fill: #1967D2;\n",
              "      height: 32px;\n",
              "      padding: 0 0 0 0;\n",
              "      width: 32px;\n",
              "    }\n",
              "\n",
              "    .colab-df-convert:hover {\n",
              "      background-color: #E2EBFA;\n",
              "      box-shadow: 0px 1px 2px rgba(60, 64, 67, 0.3), 0px 1px 3px 1px rgba(60, 64, 67, 0.15);\n",
              "      fill: #174EA6;\n",
              "    }\n",
              "\n",
              "    .colab-df-buttons div {\n",
              "      margin-bottom: 4px;\n",
              "    }\n",
              "\n",
              "    [theme=dark] .colab-df-convert {\n",
              "      background-color: #3B4455;\n",
              "      fill: #D2E3FC;\n",
              "    }\n",
              "\n",
              "    [theme=dark] .colab-df-convert:hover {\n",
              "      background-color: #434B5C;\n",
              "      box-shadow: 0px 1px 3px 1px rgba(0, 0, 0, 0.15);\n",
              "      filter: drop-shadow(0px 1px 2px rgba(0, 0, 0, 0.3));\n",
              "      fill: #FFFFFF;\n",
              "    }\n",
              "  </style>\n",
              "\n",
              "    <script>\n",
              "      const buttonEl =\n",
              "        document.querySelector('#df-77504138-b012-43be-aae2-2cabd338d763 button.colab-df-convert');\n",
              "      buttonEl.style.display =\n",
              "        google.colab.kernel.accessAllowed ? 'block' : 'none';\n",
              "\n",
              "      async function convertToInteractive(key) {\n",
              "        const element = document.querySelector('#df-77504138-b012-43be-aae2-2cabd338d763');\n",
              "        const dataTable =\n",
              "          await google.colab.kernel.invokeFunction('convertToInteractive',\n",
              "                                                    [key], {});\n",
              "        if (!dataTable) return;\n",
              "\n",
              "        const docLinkHtml = 'Like what you see? Visit the ' +\n",
              "          '<a target=\"_blank\" href=https://colab.research.google.com/notebooks/data_table.ipynb>data table notebook</a>'\n",
              "          + ' to learn more about interactive tables.';\n",
              "        element.innerHTML = '';\n",
              "        dataTable['output_type'] = 'display_data';\n",
              "        await google.colab.output.renderOutput(dataTable, element);\n",
              "        const docLink = document.createElement('div');\n",
              "        docLink.innerHTML = docLinkHtml;\n",
              "        element.appendChild(docLink);\n",
              "      }\n",
              "    </script>\n",
              "  </div>\n",
              "\n",
              "\n",
              "    <div id=\"df-eeb9c9f1-dd1b-462a-9961-503fea3963de\">\n",
              "      <button class=\"colab-df-quickchart\" onclick=\"quickchart('df-eeb9c9f1-dd1b-462a-9961-503fea3963de')\"\n",
              "                title=\"Suggest charts\"\n",
              "                style=\"display:none;\">\n",
              "\n",
              "<svg xmlns=\"http://www.w3.org/2000/svg\" height=\"24px\"viewBox=\"0 0 24 24\"\n",
              "     width=\"24px\">\n",
              "    <g>\n",
              "        <path d=\"M19 3H5c-1.1 0-2 .9-2 2v14c0 1.1.9 2 2 2h14c1.1 0 2-.9 2-2V5c0-1.1-.9-2-2-2zM9 17H7v-7h2v7zm4 0h-2V7h2v10zm4 0h-2v-4h2v4z\"/>\n",
              "    </g>\n",
              "</svg>\n",
              "      </button>\n",
              "\n",
              "<style>\n",
              "  .colab-df-quickchart {\n",
              "      --bg-color: #E8F0FE;\n",
              "      --fill-color: #1967D2;\n",
              "      --hover-bg-color: #E2EBFA;\n",
              "      --hover-fill-color: #174EA6;\n",
              "      --disabled-fill-color: #AAA;\n",
              "      --disabled-bg-color: #DDD;\n",
              "  }\n",
              "\n",
              "  [theme=dark] .colab-df-quickchart {\n",
              "      --bg-color: #3B4455;\n",
              "      --fill-color: #D2E3FC;\n",
              "      --hover-bg-color: #434B5C;\n",
              "      --hover-fill-color: #FFFFFF;\n",
              "      --disabled-bg-color: #3B4455;\n",
              "      --disabled-fill-color: #666;\n",
              "  }\n",
              "\n",
              "  .colab-df-quickchart {\n",
              "    background-color: var(--bg-color);\n",
              "    border: none;\n",
              "    border-radius: 50%;\n",
              "    cursor: pointer;\n",
              "    display: none;\n",
              "    fill: var(--fill-color);\n",
              "    height: 32px;\n",
              "    padding: 0;\n",
              "    width: 32px;\n",
              "  }\n",
              "\n",
              "  .colab-df-quickchart:hover {\n",
              "    background-color: var(--hover-bg-color);\n",
              "    box-shadow: 0 1px 2px rgba(60, 64, 67, 0.3), 0 1px 3px 1px rgba(60, 64, 67, 0.15);\n",
              "    fill: var(--button-hover-fill-color);\n",
              "  }\n",
              "\n",
              "  .colab-df-quickchart-complete:disabled,\n",
              "  .colab-df-quickchart-complete:disabled:hover {\n",
              "    background-color: var(--disabled-bg-color);\n",
              "    fill: var(--disabled-fill-color);\n",
              "    box-shadow: none;\n",
              "  }\n",
              "\n",
              "  .colab-df-spinner {\n",
              "    border: 2px solid var(--fill-color);\n",
              "    border-color: transparent;\n",
              "    border-bottom-color: var(--fill-color);\n",
              "    animation:\n",
              "      spin 1s steps(1) infinite;\n",
              "  }\n",
              "\n",
              "  @keyframes spin {\n",
              "    0% {\n",
              "      border-color: transparent;\n",
              "      border-bottom-color: var(--fill-color);\n",
              "      border-left-color: var(--fill-color);\n",
              "    }\n",
              "    20% {\n",
              "      border-color: transparent;\n",
              "      border-left-color: var(--fill-color);\n",
              "      border-top-color: var(--fill-color);\n",
              "    }\n",
              "    30% {\n",
              "      border-color: transparent;\n",
              "      border-left-color: var(--fill-color);\n",
              "      border-top-color: var(--fill-color);\n",
              "      border-right-color: var(--fill-color);\n",
              "    }\n",
              "    40% {\n",
              "      border-color: transparent;\n",
              "      border-right-color: var(--fill-color);\n",
              "      border-top-color: var(--fill-color);\n",
              "    }\n",
              "    60% {\n",
              "      border-color: transparent;\n",
              "      border-right-color: var(--fill-color);\n",
              "    }\n",
              "    80% {\n",
              "      border-color: transparent;\n",
              "      border-right-color: var(--fill-color);\n",
              "      border-bottom-color: var(--fill-color);\n",
              "    }\n",
              "    90% {\n",
              "      border-color: transparent;\n",
              "      border-bottom-color: var(--fill-color);\n",
              "    }\n",
              "  }\n",
              "</style>\n",
              "\n",
              "      <script>\n",
              "        async function quickchart(key) {\n",
              "          const quickchartButtonEl =\n",
              "            document.querySelector('#' + key + ' button');\n",
              "          quickchartButtonEl.disabled = true;  // To prevent multiple clicks.\n",
              "          quickchartButtonEl.classList.add('colab-df-spinner');\n",
              "          try {\n",
              "            const charts = await google.colab.kernel.invokeFunction(\n",
              "                'suggestCharts', [key], {});\n",
              "          } catch (error) {\n",
              "            console.error('Error during call to suggestCharts:', error);\n",
              "          }\n",
              "          quickchartButtonEl.classList.remove('colab-df-spinner');\n",
              "          quickchartButtonEl.classList.add('colab-df-quickchart-complete');\n",
              "        }\n",
              "        (() => {\n",
              "          let quickchartButtonEl =\n",
              "            document.querySelector('#df-eeb9c9f1-dd1b-462a-9961-503fea3963de button');\n",
              "          quickchartButtonEl.style.display =\n",
              "            google.colab.kernel.accessAllowed ? 'block' : 'none';\n",
              "        })();\n",
              "      </script>\n",
              "    </div>\n",
              "\n",
              "    </div>\n",
              "  </div>\n"
            ],
            "application/vnd.google.colaboratory.intrinsic+json": {
              "type": "dataframe",
              "variable_name": "df",
              "summary": "{\n  \"name\": \"df\",\n  \"rows\": 29937,\n  \"fields\": [\n    {\n      \"column\": \"categories\",\n      \"properties\": {\n        \"dtype\": \"category\",\n        \"num_unique_values\": 270,\n        \"samples\": [\n          \"home kids home girls room girls room furniture home ideas design inspiration modern decor furniture home office furniture bookcases boys room boys room furniture office furniture kids furniture kids bedroom furniture bookshelves natural baby products arts crafts educational toys books back to school supplies classroom furniture classroom cubbies coat lockers\",\n          \"home home decor clocks wall clocks decor office supplies decorative accents wall decor office decor\",\n          \"movies music books ways to shop entertainment movie tv box sets movies horror movies tv shows all horror movies tv on blu ray movies tv blu ray action adventure movies music holiday shop\"\n        ],\n        \"semantic_type\": \"\",\n        \"description\": \"\"\n      }\n    },\n    {\n      \"column\": \"name\",\n      \"properties\": {\n        \"dtype\": \"category\",\n        \"num_unique_values\": 271,\n        \"samples\": [\n          \"way basics 3 shelf eco narrow bookcase storage shelf espresso formaldehyde free lifetime guarantee\",\n          \"pocket watch wall clock distressed black yosemite home decor174\",\n          \"the resident evil collection 5 discs blu ray\"\n        ],\n        \"semantic_type\": \"\",\n        \"description\": \"\"\n      }\n    },\n    {\n      \"column\": \"reviews_didPurchase\",\n      \"properties\": {\n        \"dtype\": \"number\",\n        \"std\": 0,\n        \"min\": -1,\n        \"max\": 1,\n        \"num_unique_values\": 3,\n        \"samples\": [\n          -1,\n          1,\n          0\n        ],\n        \"semantic_type\": \"\",\n        \"description\": \"\"\n      }\n    },\n    {\n      \"column\": \"reviews_doRecommend\",\n      \"properties\": {\n        \"dtype\": \"number\",\n        \"std\": 0,\n        \"min\": -1,\n        \"max\": 1,\n        \"num_unique_values\": 3,\n        \"samples\": [\n          -1,\n          0,\n          1\n        ],\n        \"semantic_type\": \"\",\n        \"description\": \"\"\n      }\n    },\n    {\n      \"column\": \"reviews_rating\",\n      \"properties\": {\n        \"dtype\": \"number\",\n        \"std\": 0,\n        \"min\": 1,\n        \"max\": 5,\n        \"num_unique_values\": 5,\n        \"samples\": [\n          1,\n          2,\n          3\n        ],\n        \"semantic_type\": \"\",\n        \"description\": \"\"\n      }\n    },\n    {\n      \"column\": \"reviews_username\",\n      \"properties\": {\n        \"dtype\": \"string\",\n        \"num_unique_values\": 24914,\n        \"samples\": [\n          \"hewhois\",\n          \"george67\",\n          \"lizzy\"\n        ],\n        \"semantic_type\": \"\",\n        \"description\": \"\"\n      }\n    },\n    {\n      \"column\": \"user_sentiment\",\n      \"properties\": {\n        \"dtype\": \"number\",\n        \"std\": 0,\n        \"min\": 0,\n        \"max\": 1,\n        \"num_unique_values\": 2,\n        \"samples\": [\n          0,\n          1\n        ],\n        \"semantic_type\": \"\",\n        \"description\": \"\"\n      }\n    },\n    {\n      \"column\": \"review_year\",\n      \"properties\": {\n        \"dtype\": \"number\",\n        \"std\": 1,\n        \"min\": 2007,\n        \"max\": 2018,\n        \"num_unique_values\": 12,\n        \"samples\": [\n          2008,\n          2018\n        ],\n        \"semantic_type\": \"\",\n        \"description\": \"\"\n      }\n    },\n    {\n      \"column\": \"brand_combined\",\n      \"properties\": {\n        \"dtype\": \"category\",\n        \"num_unique_values\": 245,\n        \"samples\": [\n          \"bumble bee\",\n          \"olay p g\"\n        ],\n        \"semantic_type\": \"\",\n        \"description\": \"\"\n      }\n    },\n    {\n      \"column\": \"review\",\n      \"properties\": {\n        \"dtype\": \"string\",\n        \"num_unique_values\": 27232,\n        \"samples\": [\n          \"godzilla cool story felt like something missing still great\",\n          \"hair lost natural curl hair wavy curly always frizzy due humidity read bottle keratin smooth line excited see helped battle frizz decided give try washed hair shampoo used conditioner bone straight even scrunch soooo truly upset hair ever curl washed twice since using keratin smooth stuff used stuff one time help frizz either right living nightmare want curl back definitely would recommend line anyone\"\n        ],\n        \"semantic_type\": \"\",\n        \"description\": \"\"\n      }\n    }\n  ]\n}"
            }
          },
          "metadata": {},
          "execution_count": 37
        }
      ],
      "source": [
        "df.head()"
      ]
    },
    {
      "cell_type": "markdown",
      "metadata": {
        "id": "kJSxYgIsTWdb"
      },
      "source": [
        "**FEATURE EXTRACTION**"
      ]
    },
    {
      "cell_type": "markdown",
      "metadata": {
        "id": "vurWpp7PTjEB"
      },
      "source": [
        "Before proceeding with feature extraction, we will combine the review, categories, name, and brand_combined columns into a single text column. This will help capture product details, brand information, and customer reviews collectively, enabling the model to make more effective predictions."
      ]
    },
    {
      "cell_type": "code",
      "execution_count": 38,
      "metadata": {
        "id": "W7ewmhlUTZeq"
      },
      "outputs": [],
      "source": [
        "df['combined_text'] = (\n",
        "    df['review'].astype(str) + ' ' +\n",
        "    df['categories'].astype(str) + ' ' +\n",
        "    df['name'].astype(str) + ' ' +\n",
        "    df['brand_combined'].astype(str)\n",
        ")\n"
      ]
    },
    {
      "cell_type": "code",
      "execution_count": 39,
      "metadata": {
        "id": "huo83NzenqQc"
      },
      "outputs": [],
      "source": [
        "from sklearn.model_selection import train_test_split\n",
        "from sklearn.feature_extraction.text import TfidfVectorizer\n",
        "import joblib"
      ]
    },
    {
      "cell_type": "markdown",
      "metadata": {
        "id": "ZcjcEgbNUbci"
      },
      "source": [
        "Using Train test split to divide the data into test train sets and applying TF-IDF for vectorization"
      ]
    },
    {
      "cell_type": "code",
      "execution_count": 40,
      "metadata": {
        "id": "31jdRw_pURyD",
        "colab": {
          "base_uri": "https://localhost:8080/"
        },
        "outputId": "48722c3c-06d1-4534-ea3b-f2738a4ab7a6"
      },
      "outputs": [
        {
          "output_type": "stream",
          "name": "stdout",
          "text": [
            "✅ TF-IDF vectorizer saved successfully as 'tfidf_vectorizer.pkl'\n"
          ]
        }
      ],
      "source": [
        "X = df['combined_text']\n",
        "y = df['user_sentiment']\n",
        "\n",
        "X_train, X_test, y_train, y_test = train_test_split(\n",
        "    X, y, test_size=0.3, random_state=42, stratify=y\n",
        ")\n",
        "\n",
        "tfidf = TfidfVectorizer(max_features=8000, ngram_range=(1,2), stop_words='english')\n",
        "X_train_vec = tfidf.fit_transform(X_train)\n",
        "X_test_vec = tfidf.transform(X_test)\n",
        "\n",
        "joblib.dump(tfidf, 'tfidf_vectorizer.pkl')\n",
        "\n",
        "print(\"✅ TF-IDF vectorizer saved successfully as 'tfidf_vectorizer.pkl'\")"
      ]
    },
    {
      "cell_type": "markdown",
      "metadata": {
        "id": "OynfpE9dW52w"
      },
      "source": [
        "At the end of Feature Extraction, we have used TF-IDF to vectorize the combined text which contains all the details of product category, brand, name , review title and review ."
      ]
    },
    {
      "cell_type": "markdown",
      "metadata": {
        "id": "X4SRam-_YtwM"
      },
      "source": [
        "**MODEL BUILDING**"
      ]
    },
    {
      "cell_type": "markdown",
      "metadata": {
        "id": "irlnB9OmZfbc"
      },
      "source": [
        "For model building, we are using Logistic Regression, Random Forest and XGBoost along with handling data imbalance . At the end we compare the results of three models and select the best one for predicting sentiments."
      ]
    },
    {
      "cell_type": "code",
      "execution_count": 41,
      "metadata": {
        "id": "w0GH1v56YsiR"
      },
      "outputs": [],
      "source": [
        "from sklearn.model_selection import StratifiedKFold, GridSearchCV\n",
        "from collections import Counter\n",
        "from sklearn.metrics import classification_report, f1_score, roc_auc_score, confusion_matrix\n",
        "\n",
        "from sklearn.linear_model import LogisticRegression\n",
        "from sklearn.ensemble import RandomForestClassifier\n",
        "from xgboost import XGBClassifier\n",
        "import joblib\n",
        "from sklearn.naive_bayes import MultinomialNB, ComplementNB"
      ]
    },
    {
      "cell_type": "code",
      "execution_count": 42,
      "metadata": {
        "colab": {
          "base_uri": "https://localhost:8080/"
        },
        "id": "cJYuadUJbO6N",
        "outputId": "549f5b30-1d02-41ab-f568-1b01f2645c84"
      },
      "outputs": [
        {
          "output_type": "stream",
          "name": "stdout",
          "text": [
            "Class balance (train): Counter({1: 18605, 0: 2350})\n"
          ]
        }
      ],
      "source": [
        "#Checking Class Imbalance\n",
        "print(\"Class balance (train):\", Counter(y_train))\n",
        "neg, pos = np.bincount(y_train)\n",
        "scale_pos_weight = neg / max(pos, 1)"
      ]
    },
    {
      "cell_type": "code",
      "execution_count": 43,
      "metadata": {
        "id": "-nF7VflnbYOE"
      },
      "outputs": [],
      "source": [
        "cv = StratifiedKFold(n_splits=5, shuffle=True, random_state=42)"
      ]
    },
    {
      "cell_type": "code",
      "execution_count": 44,
      "metadata": {
        "id": "OcJxH1eAbgQ_"
      },
      "outputs": [],
      "source": [
        "#Creating a function which accepts the train data using all parameters of the model and  gives the F1 score, confusion matrix and the classification report.\n",
        "#using same function for calling all the three models.\n",
        "def run_grid(name, estimator, param_grid, scoring='f1'):\n",
        "    gs = GridSearchCV(\n",
        "        estimator=estimator,\n",
        "        param_grid=param_grid,\n",
        "        scoring=scoring,\n",
        "        cv=cv,\n",
        "        n_jobs=-1,\n",
        "        verbose=0\n",
        "    )\n",
        "    gs.fit(X_train_vec, y_train)\n",
        "    best = gs.best_estimator_\n",
        "    y_pred = best.predict(X_test_vec)\n",
        "    proba_ok = hasattr(best, \"predict_proba\")\n",
        "    roc = roc_auc_score(y_test, best.predict_proba(X_test_vec)[:,1]) if proba_ok else np.nan\n",
        "    f1 = f1_score(y_test, y_pred)\n",
        "    print(f\"\\n=== {name} ===\")\n",
        "    print(\"Best params:\", gs.best_params_)\n",
        "    print(f\"F1: {f1:.3f} | ROC-AUC: {roc:.3f}\")\n",
        "    print(\"Confusion matrix:\\n\", confusion_matrix(y_test, y_pred))\n",
        "    print(classification_report(y_test, y_pred, digits=3))\n",
        "    return {'name': name, 'f1': f1, 'roc_auc': roc, 'model': best}\n",
        "\n",
        "results = []\n"
      ]
    },
    {
      "cell_type": "markdown",
      "metadata": {
        "id": "0dYlNw_3ciHZ"
      },
      "source": [
        "***1.Logistic Regression Model***"
      ]
    },
    {
      "cell_type": "code",
      "execution_count": 45,
      "metadata": {
        "colab": {
          "base_uri": "https://localhost:8080/"
        },
        "id": "3ZidVGjLca57",
        "outputId": "87ce2782-b53c-4937-d469-f455bfc7659d"
      },
      "outputs": [
        {
          "output_type": "stream",
          "name": "stderr",
          "text": [
            "/usr/local/lib/python3.12/dist-packages/sklearn/linear_model/_logistic.py:1271: UserWarning: 'n_jobs' > 1 does not have any effect when 'solver' is set to 'liblinear'. Got 'n_jobs' = 2.\n",
            "  warnings.warn(\n"
          ]
        },
        {
          "output_type": "stream",
          "name": "stdout",
          "text": [
            "\n",
            "=== Logistic Regression ===\n",
            "Best params: {'C': 2.0}\n",
            "F1: 0.906 | ROC-AUC: 0.916\n",
            "Confusion matrix:\n",
            " [[ 853  154]\n",
            " [1246 6729]]\n",
            "              precision    recall  f1-score   support\n",
            "\n",
            "           0      0.406     0.847     0.549      1007\n",
            "           1      0.978     0.844     0.906      7975\n",
            "\n",
            "    accuracy                          0.844      8982\n",
            "   macro avg      0.692     0.845     0.728      8982\n",
            "weighted avg      0.914     0.844     0.866      8982\n",
            "\n"
          ]
        }
      ],
      "source": [
        "lr = LogisticRegression(\n",
        "    class_weight='balanced',\n",
        "    max_iter=500,\n",
        "    solver='liblinear',  # good for sparse + binary\n",
        "    n_jobs=-1\n",
        ")\n",
        "grid_lr = {\n",
        "    'C': [0.5, 1.0, 2.0]\n",
        "}\n",
        "results.append(run_grid(\"Logistic Regression\", lr, grid_lr))"
      ]
    },
    {
      "cell_type": "markdown",
      "metadata": {
        "id": "4kwbB75ac3Ru"
      },
      "source": [
        "***2.Random Forest Model***"
      ]
    },
    {
      "cell_type": "code",
      "execution_count": 46,
      "metadata": {
        "colab": {
          "base_uri": "https://localhost:8080/"
        },
        "id": "v4aU9Pvgc0wM",
        "outputId": "82ba73b6-9e85-4444-b49c-1de1cb48ca2d"
      },
      "outputs": [
        {
          "output_type": "stream",
          "name": "stdout",
          "text": [
            "\n",
            "=== Random Forest  ===\n",
            "Best params: {'max_depth': None, 'min_samples_leaf': 1, 'min_samples_split': 2, 'n_estimators': 200}\n",
            "F1: 0.946 | ROC-AUC: 0.819\n",
            "Confusion matrix:\n",
            " [[ 188  819]\n",
            " [  90 7885]]\n",
            "              precision    recall  f1-score   support\n",
            "\n",
            "           0      0.676     0.187     0.293      1007\n",
            "           1      0.906     0.989     0.946      7975\n",
            "\n",
            "    accuracy                          0.899      8982\n",
            "   macro avg      0.791     0.588     0.619      8982\n",
            "weighted avg      0.880     0.899     0.872      8982\n",
            "\n"
          ]
        }
      ],
      "source": [
        "rf_est = RandomForestClassifier(\n",
        "    n_jobs=-1,\n",
        "    random_state=42,\n",
        "    class_weight='balanced',   # handles imbalance\n",
        "    verbose=0\n",
        ")\n",
        "\n",
        "rf_param_grid = {\n",
        "    'n_estimators': [100, 200],\n",
        "    'max_depth': [None, 20],\n",
        "    'min_samples_split': [2, 5],\n",
        "    'min_samples_leaf': [1, 2]\n",
        "}\n",
        "\n",
        "results.append(run_grid(\"Random Forest \", rf_est, rf_param_grid))"
      ]
    },
    {
      "cell_type": "markdown",
      "metadata": {
        "id": "PTVN4QwNQkcD"
      },
      "source": [
        "***3.Naive Bayes***"
      ]
    },
    {
      "cell_type": "code",
      "execution_count": 47,
      "metadata": {
        "colab": {
          "base_uri": "https://localhost:8080/"
        },
        "id": "I1M7nGKYQeYe",
        "outputId": "967517ed-3e9d-48e4-fe14-2be6574263e7"
      },
      "outputs": [
        {
          "output_type": "stream",
          "name": "stdout",
          "text": [
            "\n",
            "=== MultinomialNB ===\n",
            "Best params: {'alpha': 0.1}\n",
            "F1: 0.904 | ROC-AUC: 0.743\n",
            "Confusion matrix:\n",
            " [[ 312  695]\n",
            " [ 825 7150]]\n",
            "              precision    recall  f1-score   support\n",
            "\n",
            "           0      0.274     0.310     0.291      1007\n",
            "           1      0.911     0.897     0.904      7975\n",
            "\n",
            "    accuracy                          0.831      8982\n",
            "   macro avg      0.593     0.603     0.597      8982\n",
            "weighted avg      0.840     0.831     0.835      8982\n",
            "\n",
            "\n",
            "=== ComplementNB ===\n",
            "Best params: {'alpha': 0.1}\n",
            "F1: 0.838 | ROC-AUC: 0.743\n",
            "Confusion matrix:\n",
            " [[ 489  518]\n",
            " [1850 6125]]\n",
            "              precision    recall  f1-score   support\n",
            "\n",
            "           0      0.209     0.486     0.292      1007\n",
            "           1      0.922     0.768     0.838      7975\n",
            "\n",
            "    accuracy                          0.736      8982\n",
            "   macro avg      0.566     0.627     0.565      8982\n",
            "weighted avg      0.842     0.736     0.777      8982\n",
            "\n"
          ]
        }
      ],
      "source": [
        "nb_est_m = MultinomialNB()\n",
        "nb_param_grid_m = {\n",
        "    'alpha': [0.1, 0.5, 1.0]\n",
        "}\n",
        "results.append(run_grid(\"MultinomialNB\", nb_est_m, nb_param_grid_m))\n",
        "\n",
        "nb_est_c = ComplementNB()\n",
        "nb_param_grid_c = {\n",
        "    'alpha': [0.1, 0.3, 0.5]\n",
        "}\n",
        "results.append(run_grid(\"ComplementNB\", nb_est_c, nb_param_grid_c))\n"
      ]
    },
    {
      "cell_type": "code",
      "execution_count": 48,
      "metadata": {
        "colab": {
          "base_uri": "https://localhost:8080/"
        },
        "id": "obQT2prZooq4",
        "outputId": "d321cfdc-844e-436a-ab54-66c58ec4cb0e"
      },
      "outputs": [
        {
          "output_type": "stream",
          "name": "stdout",
          "text": [
            "\n",
            "Detailed summary sorted by f1_macro then roc_auc:\n",
            "\n",
            "                  name  f1_macro  f1_class0  f1_class1  roc_auc\n",
            "0  Logistic Regression    0.7275     0.5493     0.9058   0.9164\n",
            "1       Random Forest     0.6191     0.2926     0.9455   0.8189\n",
            "2        MultinomialNB    0.5975     0.2910     0.9039   0.7432\n",
            "3         ComplementNB    0.5651     0.2923     0.8380   0.7432\n",
            "\n",
            "Selected best model by f1_macro: Logistic Regression\n",
            "Saved: sentiment_best_model_by_f1macro.joblib\n"
          ]
        }
      ],
      "source": [
        "#---- Compare & pick best model based on F1_macro, ROC_AUC curve values and summary ----\n",
        "\n",
        "from sklearn.metrics import precision_recall_fscore_support, f1_score, roc_auc_score\n",
        "\n",
        "\n",
        "summary_rows = []\n",
        "for r in results:\n",
        "    model = r['model']\n",
        "    name = r['name']\n",
        "    y_pred = model.predict(X_test_vec)\n",
        "    y_proba = model.predict_proba(X_test_vec)[:,1] if hasattr(model, \"predict_proba\") else None\n",
        "\n",
        "    # macro f1 (treat classes equally)\n",
        "    f1_macro = f1_score(y_test, y_pred, average='macro')\n",
        "    # class-wise f1\n",
        "    prec, rec, f1s, _ = precision_recall_fscore_support(y_test, y_pred, labels=[0,1], zero_division=0)\n",
        "    f1_class0 = f1s[0]\n",
        "    f1_class1 = f1s[1]\n",
        "    roc = roc_auc_score(y_test, y_proba) if y_proba is not None else np.nan\n",
        "\n",
        "    summary_rows.append({\n",
        "        'name': name,\n",
        "        'f1_macro': round(f1_macro, 4),\n",
        "        'f1_class0': round(f1_class0, 4),\n",
        "        'f1_class1': round(f1_class1, 4),\n",
        "        'roc_auc': round(roc, 4)\n",
        "    })\n",
        "\n",
        "summary_df = pd.DataFrame(summary_rows).sort_values(by=['f1_macro','roc_auc'], ascending=False)\n",
        "print(\"\\nDetailed summary sorted by f1_macro then roc_auc:\\n\")\n",
        "print(summary_df)\n",
        "\n",
        "# Option A: choose best by f1_macro (recommended for balanced performance)\n",
        "best_name = summary_df.iloc[0]['name']\n",
        "best_model = next(r['model'] for r in results if r['name'] == best_name)\n",
        "print(f\"\\nSelected best model by f1_macro: {best_name}\")\n",
        "\n",
        "# Save chosen model\n",
        "joblib.dump(best_model, 'sentiment_best_model_by_f1macro.joblib')\n",
        "print(\"Saved: sentiment_best_model_by_f1macro.joblib\")\n"
      ]
    },
    {
      "cell_type": "markdown",
      "metadata": {
        "id": "HsiER8VTJ1C_"
      },
      "source": [
        "We selected F1-Macro and ROC-AUC as the primary evaluation metrics for determining the best model. The F1-Macro score assigns equal importance to both positive and negative classes, making it the most suitable choice for our highly imbalanced dataset. The ROC-AUC score was considered as a secondary metric to evaluate the overall class separability.\n",
        "\n",
        "Based on these metrics, Logistic Regression emerged as the best-performing model, achieving an F1-Macro score of 72%. It effectively identifies both positive and negative sentiments, making it the most reliable choice for predicting product sentiments."
      ]
    },
    {
      "cell_type": "markdown",
      "metadata": {
        "id": "3LlFS2gZJ1Fc"
      },
      "source": [
        "**Recommendation System**"
      ]
    },
    {
      "cell_type": "code",
      "execution_count": 49,
      "metadata": {
        "id": "-A7MNzdHLM7E"
      },
      "outputs": [],
      "source": [
        "from sklearn.metrics.pairwise import cosine_similarity\n",
        "from sklearn.metrics import mean_squared_error\n",
        "from math import sqrt\n",
        "from collections import defaultdict\n",
        "import random"
      ]
    },
    {
      "cell_type": "code",
      "execution_count": 50,
      "metadata": {
        "id": "2UzPT-L8NJDq"
      },
      "outputs": [],
      "source": [
        "# ---------- CONFIG ----------\n",
        "RANDOM_STATE = 42\n",
        "holdout_fraction = 0.2   # fraction of each user's interactions to hold out as test\n",
        "k_neighbors = 50         # number of neighbors to use when predicting\n",
        "top_k_for_precision = 20 # top-K recommendations to evaluate precision"
      ]
    },
    {
      "cell_type": "code",
      "execution_count": 51,
      "metadata": {
        "id": "OHHvvlK3RV67"
      },
      "outputs": [],
      "source": [
        "# ---------- PREP DATA ----------\n",
        "ratings = df[['reviews_username', 'name', 'reviews_rating']].dropna().copy()\n",
        "ratings = ratings.rename(columns={'reviews_username':'user', 'name':'item', 'reviews_rating':'rating'})"
      ]
    },
    {
      "cell_type": "code",
      "execution_count": 52,
      "metadata": {
        "id": "QBLbNd4WRnuD"
      },
      "outputs": [],
      "source": [
        "# Filter users with at least 2 interactions (so we can hold out)\n",
        "user_counts = ratings['user'].value_counts()\n",
        "ratings = ratings[ratings['user'].isin(user_counts[user_counts >= 2].index)].reset_index(drop=True)"
      ]
    },
    {
      "cell_type": "code",
      "execution_count": 53,
      "metadata": {
        "colab": {
          "base_uri": "https://localhost:8080/"
        },
        "id": "US57BnbtSJdd",
        "outputId": "7b229f24-1c72-421c-dd2e-41be0b1478bb"
      },
      "outputs": [
        {
          "output_type": "stream",
          "name": "stdout",
          "text": [
            "Users: 3610, Items: 191, Ratings: 8633\n"
          ]
        }
      ],
      "source": [
        "# map user/item to indices\n",
        "user2idx = {u:i for i,u in enumerate(ratings['user'].unique())}\n",
        "item2idx = {i:j for j,i in enumerate(ratings['item'].unique())}\n",
        "idx2user = {v:k for k,v in user2idx.items()}\n",
        "idx2item = {v:k for k,v in item2idx.items()}\n",
        "\n",
        "ratings['user_idx'] = ratings['user'].map(user2idx)\n",
        "ratings['item_idx'] = ratings['item'].map(item2idx)\n",
        "\n",
        "n_users = len(user2idx)\n",
        "n_items = len(item2idx)\n",
        "print(f\"Users: {n_users}, Items: {n_items}, Ratings: {len(ratings)}\")"
      ]
    },
    {
      "cell_type": "code",
      "source": [
        "def train_test_split_interactions(df_ratings, holdout_fraction=0.2, random_state=RANDOM_STATE):\n",
        "    train_rows = []\n",
        "    test_rows = []\n",
        "    rng = np.random.RandomState(random_state)\n",
        "    grouped = df_ratings.groupby('user_idx')\n",
        "    for uid, group in grouped:\n",
        "        rows = group.index.tolist()\n",
        "        n_hold = max(1, int(len(rows) * holdout_fraction))\n",
        "        test_idx = rng.choice(rows, size=n_hold, replace=False)\n",
        "        test_set = set(test_idx)\n",
        "        for r in rows:\n",
        "            if r in test_set:\n",
        "                test_rows.append(r)\n",
        "            else:\n",
        "                train_rows.append(r)\n",
        "    train = df_ratings.loc[train_rows].reset_index(drop=True)\n",
        "    test = df_ratings.loc[test_rows].reset_index(drop=True)\n",
        "    return train, test\n",
        "\n",
        "train_ratings, test_ratings = train_test_split_interactions(ratings, holdout_fraction)\n",
        "print(\"Train interactions:\", len(train_ratings), \"Test interactions:\", len(test_ratings))\n"
      ],
      "metadata": {
        "colab": {
          "base_uri": "https://localhost:8080/"
        },
        "id": "gpkmdL7NbmU7",
        "outputId": "d4ff95d7-cd00-41bb-a40f-60937ac3c52e"
      },
      "execution_count": 54,
      "outputs": [
        {
          "output_type": "stream",
          "name": "stdout",
          "text": [
            "Train interactions: 4977 Test interactions: 3656\n"
          ]
        }
      ]
    },
    {
      "cell_type": "code",
      "execution_count": 55,
      "metadata": {
        "id": "0dZcYiG7SRPZ"
      },
      "outputs": [],
      "source": [
        "# ---------- Build user-item rating matrix from train ----------\n",
        "from scipy.sparse import csr_matrix"
      ]
    },
    {
      "cell_type": "code",
      "execution_count": 56,
      "metadata": {
        "id": "o0zd9NPkSyNP"
      },
      "outputs": [],
      "source": [
        "def build_urm(df_train, n_users, n_items):\n",
        "    rows = df_train['user_idx'].values\n",
        "    cols = df_train['item_idx'].values\n",
        "    vals = df_train['rating'].values.astype(float)\n",
        "    return csr_matrix((vals, (rows, cols)), shape=(n_users, n_items))\n",
        "\n",
        "URM_train = build_urm(train_ratings, n_users, n_items)"
      ]
    },
    {
      "cell_type": "code",
      "execution_count": 57,
      "metadata": {
        "colab": {
          "base_uri": "https://localhost:8080/"
        },
        "id": "ux4I2SwXTA0n",
        "outputId": "24868459-cf09-4bd8-e27f-3ba78984b072"
      },
      "outputs": [
        {
          "output_type": "stream",
          "name": "stdout",
          "text": [
            "Computing item-item similarity (may take time for many items)...\n"
          ]
        }
      ],
      "source": [
        "# ---------- ITEM-ITEM SIMILARITY (cosine) ----------\n",
        "# Use item vectors (items x users) for cosine similarity between items\n",
        "print(\"Computing item-item similarity (may take time for many items)...\")\n",
        "item_user_matrix = URM_train.T.tocsr()   # items x users\n",
        "# cosine similarity across items\n",
        "item_sim = cosine_similarity(item_user_matrix, dense_output=False)"
      ]
    },
    {
      "cell_type": "code",
      "execution_count": 58,
      "metadata": {
        "colab": {
          "base_uri": "https://localhost:8080/"
        },
        "id": "oiQUbzkaTMIr",
        "outputId": "dad71664-ac73-4c5b-c2d6-1d47fd9fde23"
      },
      "outputs": [
        {
          "output_type": "stream",
          "name": "stdout",
          "text": [
            "Computing user-user similarity...\n"
          ]
        }
      ],
      "source": [
        "# ---------- USER-USER SIMILARITY (cosine) ----------\n",
        "print(\"Computing user-user similarity...\")\n",
        "user_item_matrix = URM_train.tocsr()     # users x items\n",
        "user_sim = cosine_similarity(user_item_matrix, dense_output=False)"
      ]
    },
    {
      "cell_type": "code",
      "source": [
        "\n",
        "from sklearn.neighbors import NearestNeighbors\n",
        "\n",
        "# ---- 1️⃣ Build the Nearest Neighbors model for user similarity ----\n",
        "k_neighbors = 50\n",
        "user_item = URM_train.tocsr()\n",
        "\n",
        "# Compute top-k most similar users (cosine distance → similarity = 1 - distance)\n",
        "nn_model = NearestNeighbors(\n",
        "    n_neighbors=k_neighbors + 1,  # +1 to include the user itself\n",
        "    metric='cosine',\n",
        "    algorithm='brute',\n",
        "    n_jobs=-1\n",
        ")\n",
        "nn_model.fit(user_item)\n",
        "\n",
        "# ---- 2️⃣ Get the neighbor indices and similarities ----\n",
        "distances, indices = nn_model.kneighbors(user_item, return_distance=True)\n",
        "similarities = 1 - distances  # cosine distance to similarity\n",
        "\n",
        "# ---- 3️⃣ Remove self-neighbor (first one is the user itself) ----\n",
        "user_topk_idx = indices[:, 1:]\n",
        "user_topk_sim = similarities[:, 1:]\n",
        "\n",
        "# ---- 4️⃣ Save them for deployment ----\n",
        "np.save('user_topk_idx.npy', user_topk_idx)\n",
        "np.save('user_topk_sim.npy', user_topk_sim)\n",
        "\n",
        "print(\"✅ Saved user_topk_idx.npy and user_topk_sim.npy successfully!\")\n",
        "print(f\"Shape of user_topk_idx: {user_topk_idx.shape}\")\n"
      ],
      "metadata": {
        "colab": {
          "base_uri": "https://localhost:8080/"
        },
        "id": "9DUgWVhr9kBa",
        "outputId": "f95b849f-ad28-4b2a-e772-57ced1313898"
      },
      "execution_count": 59,
      "outputs": [
        {
          "output_type": "stream",
          "name": "stdout",
          "text": [
            "✅ Saved user_topk_idx.npy and user_topk_sim.npy successfully!\n",
            "Shape of user_topk_idx: (3610, 50)\n"
          ]
        }
      ]
    },
    {
      "cell_type": "markdown",
      "metadata": {
        "id": "3vuwtpwuTbh-"
      },
      "source": [
        "**Prediction of Item based and User based models and selecting the best performed one**"
      ]
    },
    {
      "cell_type": "code",
      "execution_count": 60,
      "metadata": {
        "id": "OJbMgjKlTNNJ"
      },
      "outputs": [],
      "source": [
        "def predict_item_based(user_idx, item_idx, URM_train, item_sim, top_k=k_neighbors):\n",
        "    # get neighbors for item\n",
        "    # similarity of target item to all other items\n",
        "    sim_row = item_sim[item_idx].toarray().ravel() if hasattr(item_sim[item_idx], \"toarray\") else item_sim[item_idx]\n",
        "    # ratings by user on other items\n",
        "    user_ratings = URM_train[user_idx].toarray().ravel()\n",
        "    # ignore unrated items by user\n",
        "    rated_mask = user_ratings > 0\n",
        "    if not np.any(rated_mask):\n",
        "        return np.nan  # cold user\n",
        "    sims = sim_row[rated_mask]\n",
        "    items_idx = np.where(rated_mask)[0]\n",
        "    # pick top-k similar rated items\n",
        "    top_k_idx = np.argsort(sims)[-top_k:]\n",
        "    numer = np.dot(sims[top_k_idx], user_ratings[items_idx[top_k_idx]])\n",
        "    denom = np.sum(np.abs(sims[top_k_idx])) + 1e-9\n",
        "    return numer / denom\n"
      ]
    },
    {
      "cell_type": "code",
      "execution_count": 61,
      "metadata": {
        "id": "yu-qPxGHT2kd"
      },
      "outputs": [],
      "source": [
        "def predict_user_based(user_idx, item_idx, URM_train, user_sim, top_k=k_neighbors):\n",
        "    # similarity of target user to all other users\n",
        "    sim_row = user_sim[user_idx].toarray().ravel() if hasattr(user_sim[user_idx], \"toarray\") else user_sim[user_idx]\n",
        "    # ratings from other users on the target item\n",
        "    item_ratings = URM_train[:, item_idx].toarray().ravel()\n",
        "    rated_mask = item_ratings > 0\n",
        "    if not np.any(rated_mask):\n",
        "        return np.nan\n",
        "    sims = sim_row[rated_mask]\n",
        "    users_idx = np.where(rated_mask)[0]\n",
        "    top_k_idx = np.argsort(sims)[-top_k:]\n",
        "    numer = np.dot(sims[top_k_idx], item_ratings[users_idx[top_k_idx]])\n",
        "    denom = np.sum(np.abs(sims[top_k_idx])) + 1e-9\n",
        "    return numer / denom"
      ]
    },
    {
      "cell_type": "code",
      "execution_count": 62,
      "metadata": {
        "id": "vmYzoAfqT3gC"
      },
      "outputs": [],
      "source": [
        "# Vectorize prediction across test set\n",
        "def evaluate_prediction(test_df, predict_fn, URM_train, sim_matrix, k_neighbors=k_neighbors):\n",
        "    preds = []\n",
        "    truths = []\n",
        "    for _, row in test_df.iterrows():\n",
        "        u = int(row['user_idx'])\n",
        "        i = int(row['item_idx'])\n",
        "        truth = float(row['rating'])\n",
        "        pred = predict_fn(u, i, URM_train, sim_matrix, top_k=k_neighbors)\n",
        "        # fallback: if nan (cold), use user's mean rating from train or global mean\n",
        "        if np.isnan(pred):\n",
        "            user_r = URM_train[u].toarray().ravel()\n",
        "            if np.any(user_r > 0):\n",
        "                pred = user_r[user_r > 0].mean()\n",
        "            else:\n",
        "                pred = URM_train.data.mean() if URM_train.data.size>0 else 3.0\n",
        "        preds.append(pred)\n",
        "        truths.append(truth)\n",
        "    rmse = sqrt(mean_squared_error(truths, preds))\n",
        "    return rmse, preds, truths"
      ]
    },
    {
      "cell_type": "code",
      "execution_count": 63,
      "metadata": {
        "colab": {
          "base_uri": "https://localhost:8080/"
        },
        "id": "9UJWXkxnT8OK",
        "outputId": "58f97c06-ea59-48a5-9597-4c63f7adf16f"
      },
      "outputs": [
        {
          "output_type": "stream",
          "name": "stdout",
          "text": [
            "Evaluating Item-based CF (RMSE)...\n",
            "Item-based RMSE: 3.2677988264141917\n"
          ]
        }
      ],
      "source": [
        "print(\"Evaluating Item-based CF (RMSE)...\")\n",
        "rmse_item, preds_item, truths_item = evaluate_prediction(test_ratings, predict_item_based, URM_train, item_sim, k_neighbors=k_neighbors)\n",
        "print(\"Item-based RMSE:\", rmse_item)\n"
      ]
    },
    {
      "cell_type": "code",
      "execution_count": 64,
      "metadata": {
        "colab": {
          "base_uri": "https://localhost:8080/"
        },
        "id": "H_yQEYN6T_yd",
        "outputId": "fdf90b42-e4d6-4840-c7f9-4c499f6b2ccd"
      },
      "outputs": [
        {
          "output_type": "stream",
          "name": "stdout",
          "text": [
            "Evaluating User-based CF (RMSE)...\n",
            "User-based RMSE: 1.7593500904251351\n"
          ]
        }
      ],
      "source": [
        "print(\"Evaluating User-based CF (RMSE)...\")\n",
        "rmse_user, preds_user, truths_user = evaluate_prediction(test_ratings, predict_user_based, URM_train, user_sim, k_neighbors=k_neighbors)\n",
        "print(\"User-based RMSE:\", rmse_user)"
      ]
    },
    {
      "cell_type": "code",
      "execution_count": 65,
      "metadata": {
        "id": "pUyw2NkRUF9_"
      },
      "outputs": [],
      "source": [
        "# ---------- Precision@K evaluation (Top-K relevance) ----------\n",
        "def recommend_top_k_item_based(user_idx, URM_train, item_sim, top_k=top_k_for_precision, exclude_seen=True):\n",
        "    # score all items for user via item-based score: s = sum(sim * rating)\n",
        "    user_ratings = URM_train[user_idx].toarray().ravel()\n",
        "    seen = set(np.where(user_ratings>0)[0])\n",
        "    # compute scores for all items: sim dot user_ratings\n",
        "    # efficient: multiply item_sim (items x items) with user_ratings\n",
        "    scores = item_sim.dot(user_ratings)  # yields item-score vector\n",
        "    scores = np.array(scores).ravel() if hasattr(scores, \"toarray\") else np.array(scores)\n",
        "    if exclude_seen:\n",
        "        scores[list(seen)] = -np.inf\n",
        "    top_items = np.argpartition(scores, -top_k)[-top_k:]\n",
        "    top_items = top_items[np.argsort(scores[top_items])[::-1]]\n",
        "    return top_items\n"
      ]
    },
    {
      "cell_type": "code",
      "execution_count": 66,
      "metadata": {
        "id": "BDy6ajl0UHQP"
      },
      "outputs": [],
      "source": [
        "def recommend_top_k_user_based(user_idx, URM_train, user_sim, top_k=top_k_for_precision, exclude_seen=True):\n",
        "    user_ratings = URM_train[user_idx].toarray().ravel()\n",
        "    seen = set(np.where(user_ratings>0)[0])\n",
        "    # score items by weighted sum of user similarities * ratings\n",
        "    scores = user_sim[user_idx].dot(URM_train.toarray())  # user x items\n",
        "    scores = np.array(scores).ravel()\n",
        "    if exclude_seen:\n",
        "        scores[list(seen)] = -np.inf\n",
        "    top_items = np.argpartition(scores, -top_k)[-top_k:]\n",
        "    top_items = top_items[np.argsort(scores[top_items])[::-1]]\n",
        "    return top_items\n"
      ]
    },
    {
      "cell_type": "code",
      "execution_count": 67,
      "metadata": {
        "id": "XPYXFaGFUMBp"
      },
      "outputs": [],
      "source": [
        "def precision_at_k(recommender_fn, URM_train, test_df, k=20):\n",
        "    # For each user in test set, check how many of their test items are in top-k\n",
        "    user_test_items = test_df.groupby('user_idx')['item_idx'].apply(set).to_dict()\n",
        "    precisions = []\n",
        "    for user_idx, true_items in user_test_items.items():\n",
        "        rec_items = recommender_fn(user_idx, URM_train, item_sim, top_k=k) if recommender_fn.__name__ == 'recommend_top_k_item_based' else recommender_fn(user_idx, URM_train, user_sim, top_k=k)\n",
        "        rec_set = set(rec_items)\n",
        "        prec = len(rec_set & true_items) / k\n",
        "        precisions.append(prec)\n",
        "    return np.mean(precisions)"
      ]
    },
    {
      "cell_type": "code",
      "execution_count": 68,
      "metadata": {
        "colab": {
          "base_uri": "https://localhost:8080/"
        },
        "id": "wikCK7f4UP42",
        "outputId": "a4a10948-0567-497a-980a-800b48e5a13d"
      },
      "outputs": [
        {
          "output_type": "stream",
          "name": "stdout",
          "text": [
            "Computing Precision@K (Item-based)...\n",
            "Item-based Precision@20: 0.0164\n",
            "Computing Precision@K (User-based)...\n",
            "User-based Precision@20: 0.0182\n"
          ]
        }
      ],
      "source": [
        "#calling the right recommenders\n",
        "print(\"Computing Precision@K (Item-based)...\")\n",
        "prec_item = precision_at_k(recommend_top_k_item_based, URM_train, test_ratings, k=top_k_for_precision)\n",
        "print(f\"Item-based Precision@{top_k_for_precision}:\", round(prec_item,4))\n",
        "\n",
        "print(\"Computing Precision@K (User-based)...\")\n",
        "prec_user = precision_at_k(recommend_top_k_user_based, URM_train, test_ratings, k=top_k_for_precision)\n",
        "print(f\"User-based Precision@{top_k_for_precision}:\", round(prec_user,4))"
      ]
    },
    {
      "cell_type": "code",
      "execution_count": 69,
      "metadata": {
        "colab": {
          "base_uri": "https://localhost:8080/"
        },
        "id": "GB6fOy0SUUua",
        "outputId": "50c9c7ff-78b5-44d2-85cb-8c90516864b1"
      },
      "outputs": [
        {
          "output_type": "stream",
          "name": "stdout",
          "text": [
            "\n",
            "=== Summary ===\n",
            "Item-based RMSE: 3.2677988264141917 Precision@K: 0.016357340720221606\n",
            "User-based RMSE: 1.7593500904251351 Precision@K: 0.018185595567867033\n",
            "Selected recommender: User-based CF\n"
          ]
        }
      ],
      "source": [
        "#Selection of best model\n",
        "print(\"\\n=== Summary ===\")\n",
        "print(\"Item-based RMSE:\", rmse_item, \"Precision@K:\", prec_item)\n",
        "print(\"User-based RMSE:\", rmse_user, \"Precision@K:\", prec_user)\n",
        "\n",
        "if (rmse_item < rmse_user) and (prec_item >= prec_user):\n",
        "    winner = 'Item-based CF'\n",
        "elif (rmse_user < rmse_item) and (prec_user >= prec_item):\n",
        "    winner = 'User-based CF'\n",
        "else:\n",
        "    # pick by Precision@K if RMSE conflict, otherwise by RMSE\n",
        "    winner = 'Item-based CF' if prec_item >= prec_user else 'User-based CF'\n",
        "\n",
        "print(\"Selected recommender:\", winner)"
      ]
    },
    {
      "cell_type": "markdown",
      "source": [
        "After evaluating both models on the test set, we concluded that the User-Based Recommendation System outperforms the Item-Based approach, achieving better results in terms of RMSE and Precision@K metrics.\n",
        "\n",
        "Hence, the User-Based Recommendation System is selected as the final model for generating product recommendations."
      ],
      "metadata": {
        "id": "GNqAyP0tYMlx"
      }
    },
    {
      "cell_type": "markdown",
      "source": [
        "**Recommendation of Top 20 Products to a Specified User**"
      ],
      "metadata": {
        "id": "s43iKKJkZT_q"
      }
    },
    {
      "cell_type": "code",
      "source": [
        "def recommend_top_n_user_based(username, URM_train, user_sim, user2idx, idx2item, top_n=20, k_neighbors=50):\n",
        "    if username not in user2idx:\n",
        "        print(\"User not found in training data.\")\n",
        "        return []\n",
        "\n",
        "    user_idx = user2idx[username]\n",
        "    # Get similarity scores for this user to all others\n",
        "    sim_scores = user_sim[user_idx].toarray().ravel() if hasattr(user_sim[user_idx], \"toarray\") else user_sim[user_idx]\n",
        "    # Get top-k similar users (excluding the user itself)\n",
        "    sim_scores[user_idx] = -1  # exclude self\n",
        "    top_k_users = np.argsort(sim_scores)[-k_neighbors:]\n",
        "    top_k_sims = sim_scores[top_k_users]\n",
        "    # Get items rated by these similar users\n",
        "    user_ratings = URM_train[user_idx].toarray().ravel()\n",
        "    items_already_rated = set(np.where(user_ratings > 0)[0])\n",
        "    # Predict scores for all items\n",
        "    pred_scores = np.zeros(URM_train.shape[1])\n",
        "    for i in range(URM_train.shape[1]):\n",
        "        if i in items_already_rated:\n",
        "            pred_scores[i] = -np.inf  # skip already rated\n",
        "            continue\n",
        "\n",
        "        # Get all ratings for this item from other users\n",
        "        item_ratings = URM_train[:, i].toarray().ravel()\n",
        "        rated_mask = item_ratings > 0\n",
        "        if not np.any(rated_mask):\n",
        "            continue\n",
        "\n",
        "        sims = sim_scores[rated_mask]\n",
        "        ratings = item_ratings[rated_mask]\n",
        "\n",
        "        # Weighted average of ratings by similarity\n",
        "        if np.sum(np.abs(sims)) > 0:\n",
        "            pred_scores[i] = np.dot(sims, ratings) / (np.sum(np.abs(sims)) + 1e-9)\n",
        "        else:\n",
        "            pred_scores[i] = 0\n",
        "      # Get top N recommended items\n",
        "    top_items_idx = np.argpartition(pred_scores, -top_n)[-top_n:]\n",
        "    top_items_idx = top_items_idx[np.argsort(pred_scores[top_items_idx])[::-1]]\n",
        "    # Map back to product names\n",
        "    top_items = [idx2item[i] for i in top_items_idx]\n",
        "\n",
        "    return top_items"
      ],
      "metadata": {
        "id": "axmKUh8zb-_y"
      },
      "execution_count": 70,
      "outputs": []
    },
    {
      "cell_type": "code",
      "source": [
        "# Cheking : recommend for a username\n",
        "username = \"rebecca\"\n",
        "top_20_products = recommend_top_n_user_based(username, URM_train, user_sim, user2idx, idx2item, top_n=20, k_neighbors=50)\n",
        "\n",
        "print(f\"\\nTop 20 recommended products for user '{username}':\\n\")\n",
        "for rank, item in enumerate(top_20_products, start=1):\n",
        "    print(f\"{rank}. {item}\")"
      ],
      "metadata": {
        "colab": {
          "base_uri": "https://localhost:8080/"
        },
        "id": "MGjWTOdoa_hw",
        "outputId": "fb345b7b-b01e-4c75-c713-51956bac784a"
      },
      "execution_count": 71,
      "outputs": [
        {
          "output_type": "stream",
          "name": "stdout",
          "text": [
            "\n",
            "Top 20 recommended products for user 'rebecca':\n",
            "\n",
            "1. stander pt bedcane bed handle\n",
            "2. godzilla 3d includes digital copy ultraviolet 3d 2d blu ray dvd\n",
            "3. tostitos bite size tortilla chips\n",
            "4. bisquick original pancake and baking mix 40oz\n",
            "5. mike dave need wedding dates dvd digital\n",
            "6. jason aldean they don t know\n",
            "7. the resident evil collection 5 discs blu ray\n",
            "8. red special edition dvdvideo\n",
            "9. clorox disinfecting bathroom cleaner\n",
            "10. the script no sound without silence cd\n",
            "11. power crunch protein energy bar peanut butter creme original\n",
            "12. the honest company laundry detergent\n",
            "13. caress moisturizing body bar natural silk 4 75oz\n",
            "14. there s something about mary dvd\n",
            "15. lysol concentrate deodorizing cleaner original scent\n",
            "16. orajel maximum strength toothache pain relief liquid\n",
            "17. cars toon mater s tall tales\n",
            "18. australian gold exotic blend lotion spf 4\n",
            "19. diet canada dry ginger ale 12pk 12 fl oz cans\n",
            "20. bounce dryer sheets fresh linen 160 sheets\n"
          ]
        }
      ]
    },
    {
      "cell_type": "markdown",
      "source": [
        "**Fine-Tuning the Recommendation System and Recommendation of Top 5 Products**"
      ],
      "metadata": {
        "id": "Ht4630wybGrw"
      }
    },
    {
      "cell_type": "code",
      "source": [
        "sentiment_model = joblib.load('sentiment_best_model_by_f1macro.joblib')\n",
        "vectorizer = joblib.load('tfidf_vectorizer.pkl')"
      ],
      "metadata": {
        "id": "Qi6NhgOoc_db"
      },
      "execution_count": 72,
      "outputs": []
    },
    {
      "cell_type": "code",
      "source": [
        "# Filter all reviews of these products from your dataset\n",
        "df_top20 = df[df['name'].isin(top_20_products)].copy()\n",
        "# Check structure\n",
        "print(f\"Total reviews in top 20 products: {len(df_top20)}\")"
      ],
      "metadata": {
        "colab": {
          "base_uri": "https://localhost:8080/"
        },
        "id": "_DLUlD8ndPVl",
        "outputId": "a78cf433-a2e0-457d-c73d-a16e46dccc52"
      },
      "execution_count": 73,
      "outputs": [
        {
          "output_type": "stream",
          "name": "stdout",
          "text": [
            "Total reviews in top 20 products: 8909\n"
          ]
        }
      ]
    },
    {
      "cell_type": "code",
      "source": [
        "#--------Predict sentiment for each review ----------\n",
        "\n",
        "df_top20['clean_text'] = df_top20['combined_text']\n",
        "\n",
        "# Transform and predict\n",
        "X_test = vectorizer.transform(df_top20['clean_text'])\n",
        "df_top20['predicted_sentiment'] = sentiment_model.predict(X_test)\n"
      ],
      "metadata": {
        "id": "nDRUYz1MdT-1"
      },
      "execution_count": 74,
      "outputs": []
    },
    {
      "cell_type": "code",
      "source": [
        "#---------- Calculate positive sentiment percentage per product ----------\n",
        "# Assuming predicted_sentiment = 1 for positive, 0 for negative\n",
        "sentiment_summary = (\n",
        "    df_top20.groupby('name')['predicted_sentiment']\n",
        "    .agg(['count', 'sum'])\n",
        "    .rename(columns={'count':'total_reviews', 'sum':'positive_reviews'})\n",
        "    .reset_index()\n",
        ")\n",
        "\n",
        "sentiment_summary['positive_percentage'] = (\n",
        "    sentiment_summary['positive_reviews'] / sentiment_summary['total_reviews'] * 100\n",
        ")\n"
      ],
      "metadata": {
        "id": "jFrAwn8MeGl5"
      },
      "execution_count": 75,
      "outputs": []
    },
    {
      "cell_type": "code",
      "source": [
        "# ---------- Sort and get top 5 products ----------\n",
        "top_5_products = sentiment_summary.sort_values(by='positive_percentage', ascending=False).head(5)\n",
        "\n",
        "print(\"\\nTop 5 Products based on highest positive sentiment percentage:\\n\")\n",
        "print(top_5_products[['name', 'positive_percentage', 'total_reviews']])"
      ],
      "metadata": {
        "colab": {
          "base_uri": "https://localhost:8080/"
        },
        "id": "nXTlqhEreK16",
        "outputId": "89d50d86-9a18-400b-883d-b214f9cc90a0"
      },
      "execution_count": 76,
      "outputs": [
        {
          "output_type": "stream",
          "name": "stdout",
          "text": [
            "\n",
            "Top 5 Products based on highest positive sentiment percentage:\n",
            "\n",
            "                                                 name  positive_percentage  \\\n",
            "14                      stander pt bedcane bed handle           100.000000   \n",
            "13                       red special edition dvdvideo            92.261905   \n",
            "17             the script no sound without silence cd            87.179487   \n",
            "5                clorox disinfecting bathroom cleaner            85.728298   \n",
            "7   godzilla 3d includes digital copy ultraviolet ...            84.571429   \n",
            "\n",
            "    total_reviews  \n",
            "14             11  \n",
            "13            672  \n",
            "17             39  \n",
            "5            2039  \n",
            "7            3325  \n"
          ]
        }
      ]
    },
    {
      "cell_type": "markdown",
      "source": [
        "Saving the required files for Flask deployment."
      ],
      "metadata": {
        "id": "ID7cxpG9r6bk"
      }
    },
    {
      "cell_type": "code",
      "source": [
        "\n",
        "import  pickle\n",
        "from scipy import sparse\n",
        "from sklearn.pipeline import Pipeline\n",
        "\n",
        "# sentiment pipeline (TF-IDF + LogisticRegression pipeline)\n",
        "sentiment_pipeline = Pipeline([\n",
        "    ('tfidf', tfidf),\n",
        "    ('model', sentiment_model)\n",
        "])\n",
        "joblib.dump(sentiment_pipeline, 'sentiment_pipeline.joblib')\n",
        "\n",
        "# URM_train is scipy csr_matrix\n",
        "sparse.save_npz('URM_train.npz', URM_train)\n",
        "\n",
        "# user_topk_idx (n_users x k) and user_topk_sim (n_users x k) are numpy arrays\n",
        "np.save('user_topk_idx.npy', user_topk_idx)\n",
        "np.save('user_topk_sim.npy', user_topk_sim)\n",
        "\n",
        "# Save maps\n",
        "with open('user2idx.pkl','wb') as f:\n",
        "    pickle.dump(user2idx, f)\n",
        "\n",
        "with open('idx2item.pkl','wb') as f:\n",
        "    pickle.dump(idx2item, f)\n",
        "\n",
        "\n",
        "with open('item_idx_map.pkl','wb') as f:\n",
        "    pickle.dump(item2idx, f)\n"
      ],
      "metadata": {
        "id": "vWB8BwNDmJ2z"
      },
      "execution_count": 77,
      "outputs": []
    },
    {
      "cell_type": "code",
      "source": [
        "!ls -lh /content"
      ],
      "metadata": {
        "id": "cVJoZqgFsClD"
      },
      "execution_count": 77,
      "outputs": []
    },
    {
      "cell_type": "code",
      "source": [
        "from google.colab import files\n",
        "files.download('sentiment_pipeline.joblib')\n",
        "files.download('URM_train.npz')\n",
        "files.download('user_topk_idx.npy')\n",
        "files.download('user_topk_sim.npy')\n",
        "files.download('user2idx.pkl')\n",
        "files.download('idx2item.pkl')\n",
        "files.download('item_idx_map.pkl')\n"
      ],
      "metadata": {
        "colab": {
          "base_uri": "https://localhost:8080/",
          "height": 17
        },
        "id": "CAGyEE-Yg8Pd",
        "outputId": "42543349-f4fa-4e16-91c9-6b739ef0d35e"
      },
      "execution_count": 78,
      "outputs": [
        {
          "output_type": "display_data",
          "data": {
            "text/plain": [
              "<IPython.core.display.Javascript object>"
            ],
            "application/javascript": [
              "\n",
              "    async function download(id, filename, size) {\n",
              "      if (!google.colab.kernel.accessAllowed) {\n",
              "        return;\n",
              "      }\n",
              "      const div = document.createElement('div');\n",
              "      const label = document.createElement('label');\n",
              "      label.textContent = `Downloading \"${filename}\": `;\n",
              "      div.appendChild(label);\n",
              "      const progress = document.createElement('progress');\n",
              "      progress.max = size;\n",
              "      div.appendChild(progress);\n",
              "      document.body.appendChild(div);\n",
              "\n",
              "      const buffers = [];\n",
              "      let downloaded = 0;\n",
              "\n",
              "      const channel = await google.colab.kernel.comms.open(id);\n",
              "      // Send a message to notify the kernel that we're ready.\n",
              "      channel.send({})\n",
              "\n",
              "      for await (const message of channel.messages) {\n",
              "        // Send a message to notify the kernel that we're ready.\n",
              "        channel.send({})\n",
              "        if (message.buffers) {\n",
              "          for (const buffer of message.buffers) {\n",
              "            buffers.push(buffer);\n",
              "            downloaded += buffer.byteLength;\n",
              "            progress.value = downloaded;\n",
              "          }\n",
              "        }\n",
              "      }\n",
              "      const blob = new Blob(buffers, {type: 'application/binary'});\n",
              "      const a = document.createElement('a');\n",
              "      a.href = window.URL.createObjectURL(blob);\n",
              "      a.download = filename;\n",
              "      div.appendChild(a);\n",
              "      a.click();\n",
              "      div.remove();\n",
              "    }\n",
              "  "
            ]
          },
          "metadata": {}
        },
        {
          "output_type": "display_data",
          "data": {
            "text/plain": [
              "<IPython.core.display.Javascript object>"
            ],
            "application/javascript": [
              "download(\"download_142943b9-f6a2-4e7f-b7fe-e05d004c8fae\", \"sentiment_pipeline.joblib\", 385376)"
            ]
          },
          "metadata": {}
        },
        {
          "output_type": "display_data",
          "data": {
            "text/plain": [
              "<IPython.core.display.Javascript object>"
            ],
            "application/javascript": [
              "\n",
              "    async function download(id, filename, size) {\n",
              "      if (!google.colab.kernel.accessAllowed) {\n",
              "        return;\n",
              "      }\n",
              "      const div = document.createElement('div');\n",
              "      const label = document.createElement('label');\n",
              "      label.textContent = `Downloading \"${filename}\": `;\n",
              "      div.appendChild(label);\n",
              "      const progress = document.createElement('progress');\n",
              "      progress.max = size;\n",
              "      div.appendChild(progress);\n",
              "      document.body.appendChild(div);\n",
              "\n",
              "      const buffers = [];\n",
              "      let downloaded = 0;\n",
              "\n",
              "      const channel = await google.colab.kernel.comms.open(id);\n",
              "      // Send a message to notify the kernel that we're ready.\n",
              "      channel.send({})\n",
              "\n",
              "      for await (const message of channel.messages) {\n",
              "        // Send a message to notify the kernel that we're ready.\n",
              "        channel.send({})\n",
              "        if (message.buffers) {\n",
              "          for (const buffer of message.buffers) {\n",
              "            buffers.push(buffer);\n",
              "            downloaded += buffer.byteLength;\n",
              "            progress.value = downloaded;\n",
              "          }\n",
              "        }\n",
              "      }\n",
              "      const blob = new Blob(buffers, {type: 'application/binary'});\n",
              "      const a = document.createElement('a');\n",
              "      a.href = window.URL.createObjectURL(blob);\n",
              "      a.download = filename;\n",
              "      div.appendChild(a);\n",
              "      a.click();\n",
              "      div.remove();\n",
              "    }\n",
              "  "
            ]
          },
          "metadata": {}
        },
        {
          "output_type": "display_data",
          "data": {
            "text/plain": [
              "<IPython.core.display.Javascript object>"
            ],
            "application/javascript": [
              "download(\"download_da11be39-e55b-4146-a9ca-9e310489af06\", \"URM_train.npz\", 10404)"
            ]
          },
          "metadata": {}
        },
        {
          "output_type": "display_data",
          "data": {
            "text/plain": [
              "<IPython.core.display.Javascript object>"
            ],
            "application/javascript": [
              "\n",
              "    async function download(id, filename, size) {\n",
              "      if (!google.colab.kernel.accessAllowed) {\n",
              "        return;\n",
              "      }\n",
              "      const div = document.createElement('div');\n",
              "      const label = document.createElement('label');\n",
              "      label.textContent = `Downloading \"${filename}\": `;\n",
              "      div.appendChild(label);\n",
              "      const progress = document.createElement('progress');\n",
              "      progress.max = size;\n",
              "      div.appendChild(progress);\n",
              "      document.body.appendChild(div);\n",
              "\n",
              "      const buffers = [];\n",
              "      let downloaded = 0;\n",
              "\n",
              "      const channel = await google.colab.kernel.comms.open(id);\n",
              "      // Send a message to notify the kernel that we're ready.\n",
              "      channel.send({})\n",
              "\n",
              "      for await (const message of channel.messages) {\n",
              "        // Send a message to notify the kernel that we're ready.\n",
              "        channel.send({})\n",
              "        if (message.buffers) {\n",
              "          for (const buffer of message.buffers) {\n",
              "            buffers.push(buffer);\n",
              "            downloaded += buffer.byteLength;\n",
              "            progress.value = downloaded;\n",
              "          }\n",
              "        }\n",
              "      }\n",
              "      const blob = new Blob(buffers, {type: 'application/binary'});\n",
              "      const a = document.createElement('a');\n",
              "      a.href = window.URL.createObjectURL(blob);\n",
              "      a.download = filename;\n",
              "      div.appendChild(a);\n",
              "      a.click();\n",
              "      div.remove();\n",
              "    }\n",
              "  "
            ]
          },
          "metadata": {}
        },
        {
          "output_type": "display_data",
          "data": {
            "text/plain": [
              "<IPython.core.display.Javascript object>"
            ],
            "application/javascript": [
              "download(\"download_d834bb37-214f-4139-8b8e-9b2b05e422ba\", \"user_topk_idx.npy\", 1444128)"
            ]
          },
          "metadata": {}
        },
        {
          "output_type": "display_data",
          "data": {
            "text/plain": [
              "<IPython.core.display.Javascript object>"
            ],
            "application/javascript": [
              "\n",
              "    async function download(id, filename, size) {\n",
              "      if (!google.colab.kernel.accessAllowed) {\n",
              "        return;\n",
              "      }\n",
              "      const div = document.createElement('div');\n",
              "      const label = document.createElement('label');\n",
              "      label.textContent = `Downloading \"${filename}\": `;\n",
              "      div.appendChild(label);\n",
              "      const progress = document.createElement('progress');\n",
              "      progress.max = size;\n",
              "      div.appendChild(progress);\n",
              "      document.body.appendChild(div);\n",
              "\n",
              "      const buffers = [];\n",
              "      let downloaded = 0;\n",
              "\n",
              "      const channel = await google.colab.kernel.comms.open(id);\n",
              "      // Send a message to notify the kernel that we're ready.\n",
              "      channel.send({})\n",
              "\n",
              "      for await (const message of channel.messages) {\n",
              "        // Send a message to notify the kernel that we're ready.\n",
              "        channel.send({})\n",
              "        if (message.buffers) {\n",
              "          for (const buffer of message.buffers) {\n",
              "            buffers.push(buffer);\n",
              "            downloaded += buffer.byteLength;\n",
              "            progress.value = downloaded;\n",
              "          }\n",
              "        }\n",
              "      }\n",
              "      const blob = new Blob(buffers, {type: 'application/binary'});\n",
              "      const a = document.createElement('a');\n",
              "      a.href = window.URL.createObjectURL(blob);\n",
              "      a.download = filename;\n",
              "      div.appendChild(a);\n",
              "      a.click();\n",
              "      div.remove();\n",
              "    }\n",
              "  "
            ]
          },
          "metadata": {}
        },
        {
          "output_type": "display_data",
          "data": {
            "text/plain": [
              "<IPython.core.display.Javascript object>"
            ],
            "application/javascript": [
              "download(\"download_0a767d43-2dc9-4555-883f-eccf145ae6be\", \"user_topk_sim.npy\", 1444128)"
            ]
          },
          "metadata": {}
        },
        {
          "output_type": "display_data",
          "data": {
            "text/plain": [
              "<IPython.core.display.Javascript object>"
            ],
            "application/javascript": [
              "\n",
              "    async function download(id, filename, size) {\n",
              "      if (!google.colab.kernel.accessAllowed) {\n",
              "        return;\n",
              "      }\n",
              "      const div = document.createElement('div');\n",
              "      const label = document.createElement('label');\n",
              "      label.textContent = `Downloading \"${filename}\": `;\n",
              "      div.appendChild(label);\n",
              "      const progress = document.createElement('progress');\n",
              "      progress.max = size;\n",
              "      div.appendChild(progress);\n",
              "      document.body.appendChild(div);\n",
              "\n",
              "      const buffers = [];\n",
              "      let downloaded = 0;\n",
              "\n",
              "      const channel = await google.colab.kernel.comms.open(id);\n",
              "      // Send a message to notify the kernel that we're ready.\n",
              "      channel.send({})\n",
              "\n",
              "      for await (const message of channel.messages) {\n",
              "        // Send a message to notify the kernel that we're ready.\n",
              "        channel.send({})\n",
              "        if (message.buffers) {\n",
              "          for (const buffer of message.buffers) {\n",
              "            buffers.push(buffer);\n",
              "            downloaded += buffer.byteLength;\n",
              "            progress.value = downloaded;\n",
              "          }\n",
              "        }\n",
              "      }\n",
              "      const blob = new Blob(buffers, {type: 'application/binary'});\n",
              "      const a = document.createElement('a');\n",
              "      a.href = window.URL.createObjectURL(blob);\n",
              "      a.download = filename;\n",
              "      div.appendChild(a);\n",
              "      a.click();\n",
              "      div.remove();\n",
              "    }\n",
              "  "
            ]
          },
          "metadata": {}
        },
        {
          "output_type": "display_data",
          "data": {
            "text/plain": [
              "<IPython.core.display.Javascript object>"
            ],
            "application/javascript": [
              "download(\"download_5a5b021d-7104-47ac-92b7-ef404ae2bc37\", \"user2idx.pkl\", 48792)"
            ]
          },
          "metadata": {}
        },
        {
          "output_type": "display_data",
          "data": {
            "text/plain": [
              "<IPython.core.display.Javascript object>"
            ],
            "application/javascript": [
              "\n",
              "    async function download(id, filename, size) {\n",
              "      if (!google.colab.kernel.accessAllowed) {\n",
              "        return;\n",
              "      }\n",
              "      const div = document.createElement('div');\n",
              "      const label = document.createElement('label');\n",
              "      label.textContent = `Downloading \"${filename}\": `;\n",
              "      div.appendChild(label);\n",
              "      const progress = document.createElement('progress');\n",
              "      progress.max = size;\n",
              "      div.appendChild(progress);\n",
              "      document.body.appendChild(div);\n",
              "\n",
              "      const buffers = [];\n",
              "      let downloaded = 0;\n",
              "\n",
              "      const channel = await google.colab.kernel.comms.open(id);\n",
              "      // Send a message to notify the kernel that we're ready.\n",
              "      channel.send({})\n",
              "\n",
              "      for await (const message of channel.messages) {\n",
              "        // Send a message to notify the kernel that we're ready.\n",
              "        channel.send({})\n",
              "        if (message.buffers) {\n",
              "          for (const buffer of message.buffers) {\n",
              "            buffers.push(buffer);\n",
              "            downloaded += buffer.byteLength;\n",
              "            progress.value = downloaded;\n",
              "          }\n",
              "        }\n",
              "      }\n",
              "      const blob = new Blob(buffers, {type: 'application/binary'});\n",
              "      const a = document.createElement('a');\n",
              "      a.href = window.URL.createObjectURL(blob);\n",
              "      a.download = filename;\n",
              "      div.appendChild(a);\n",
              "      a.click();\n",
              "      div.remove();\n",
              "    }\n",
              "  "
            ]
          },
          "metadata": {}
        },
        {
          "output_type": "display_data",
          "data": {
            "text/plain": [
              "<IPython.core.display.Javascript object>"
            ],
            "application/javascript": [
              "download(\"download_484b9396-a901-4fd3-9f51-77f7ccabf5db\", \"idx2item.pkl\", 9757)"
            ]
          },
          "metadata": {}
        },
        {
          "output_type": "display_data",
          "data": {
            "text/plain": [
              "<IPython.core.display.Javascript object>"
            ],
            "application/javascript": [
              "\n",
              "    async function download(id, filename, size) {\n",
              "      if (!google.colab.kernel.accessAllowed) {\n",
              "        return;\n",
              "      }\n",
              "      const div = document.createElement('div');\n",
              "      const label = document.createElement('label');\n",
              "      label.textContent = `Downloading \"${filename}\": `;\n",
              "      div.appendChild(label);\n",
              "      const progress = document.createElement('progress');\n",
              "      progress.max = size;\n",
              "      div.appendChild(progress);\n",
              "      document.body.appendChild(div);\n",
              "\n",
              "      const buffers = [];\n",
              "      let downloaded = 0;\n",
              "\n",
              "      const channel = await google.colab.kernel.comms.open(id);\n",
              "      // Send a message to notify the kernel that we're ready.\n",
              "      channel.send({})\n",
              "\n",
              "      for await (const message of channel.messages) {\n",
              "        // Send a message to notify the kernel that we're ready.\n",
              "        channel.send({})\n",
              "        if (message.buffers) {\n",
              "          for (const buffer of message.buffers) {\n",
              "            buffers.push(buffer);\n",
              "            downloaded += buffer.byteLength;\n",
              "            progress.value = downloaded;\n",
              "          }\n",
              "        }\n",
              "      }\n",
              "      const blob = new Blob(buffers, {type: 'application/binary'});\n",
              "      const a = document.createElement('a');\n",
              "      a.href = window.URL.createObjectURL(blob);\n",
              "      a.download = filename;\n",
              "      div.appendChild(a);\n",
              "      a.click();\n",
              "      div.remove();\n",
              "    }\n",
              "  "
            ]
          },
          "metadata": {}
        },
        {
          "output_type": "display_data",
          "data": {
            "text/plain": [
              "<IPython.core.display.Javascript object>"
            ],
            "application/javascript": [
              "download(\"download_881e82da-d4f0-403d-b3ec-8c719e0627a6\", \"item_idx_map.pkl\", 9757)"
            ]
          },
          "metadata": {}
        }
      ]
    },
    {
      "cell_type": "markdown",
      "source": [
        "**Project Summary**\n",
        "\n",
        "We began the recommendation system project with data cleaning and exploratory data analysis (EDA) to understand the dataset and handle missing or inconsistent values. This was followed by text preprocessing to clean and normalize textual data such as reviews and product descriptions.\n",
        "\n",
        "Next, we performed feature extraction using the TF-IDF vectorization technique to transform text data into meaningful numerical representations. Using these features, we built and evaluated three machine learning models — Logistic Regression, Random Forest, and Naive Bayes — to perform sentiment classification. Based on performance metrics such as F1-score and ROC-AUC, the Logistic Regression model was selected as the best-performing sentiment analysis model.\n",
        "\n",
        "We then developed and compared two recommendation systems — User-Based and Item-Based Collaborative Filtering. Based on evaluation metrics (RMSE and Precision@K), the User-Based Recommendation System was found to perform better and was selected as the final recommendation model.\n",
        "\n",
        "Finally, the project was integrated into an end-to-end web application using Flask, combining the Logistic Regression sentiment model with the User-Based Recommendation System. The deployed system takes a username as input and provides the top 5 personalized product recommendations for that user based on sentiment and user similarity."
      ],
      "metadata": {
        "id": "o-tA0HoWIsPo"
      }
    },
    {
      "cell_type": "code",
      "source": [],
      "metadata": {
        "id": "9de2ipp7MDfl"
      },
      "execution_count": null,
      "outputs": []
    }
  ],
  "metadata": {
    "colab": {
      "provenance": []
    },
    "kernelspec": {
      "display_name": "Python 3",
      "name": "python3"
    },
    "language_info": {
      "name": "python"
    }
  },
  "nbformat": 4,
  "nbformat_minor": 0
}